{
 "cells": [
  {
   "cell_type": "code",
   "execution_count": 2,
   "metadata": {},
   "outputs": [
    {
     "data": {
      "text/plain": [
       "[]"
      ]
     },
     "execution_count": 2,
     "metadata": {},
     "output_type": "execute_result"
    }
   ],
   "source": [
    "# Dependencies\n",
    "import tweepy\n",
    "import numpy as np\n",
    "import pandas as pd\n",
    "from datetime import datetime\n",
    "import matplotlib.pyplot as plt\n",
    "from matplotlib import style\n",
    "import matplotlib.cm as cm\n",
    "import time\n",
    "import re\n",
    "\n",
    "completed=[]\n",
    "\n",
    "\n",
    "style.use('ggplot')\n",
    "\n",
    "# Import and Initialize Sentiment Analyzer\n",
    "from vaderSentiment.vaderSentiment import SentimentIntensityAnalyzer\n",
    "analyzer = SentimentIntensityAnalyzer()\n",
    "\n",
    "# Twitter API Keys\n",
    "from Config import (consumer_key, \n",
    "                    consumer_secret, \n",
    "                    access_token, \n",
    "                    access_token_secret)\n",
    "\n",
    "# Setup Tweepy API Authentication\n",
    "auth = tweepy.OAuthHandler(consumer_key, consumer_secret)\n",
    "auth.set_access_token(access_token, access_token_secret)\n",
    "api = tweepy.API(auth, parser=tweepy.parsers.JSONParser())\n",
    "completed"
   ]
  },
  {
   "cell_type": "code",
   "execution_count": null,
   "metadata": {},
   "outputs": [],
   "source": [
    "# Create a loop that checks the mentions every 5 minutes\n",
    "#counter = 0\n",
    "\n",
    "# Infinite loop\n",
    "while(True):\n",
    "    mention=api.mentions_timeline(count=25)\n",
    "    for tweet in mention:\n",
    "        print(tweet[\"text\"])\n",
    "    time.sleep(300)\n",
    "    counter = counter + 1\n",
    "    #print (counter)"
   ]
  },
  {
   "cell_type": "code",
   "execution_count": 7,
   "metadata": {},
   "outputs": [
    {
     "data": {
      "text/plain": [
       "{'hashtags': [],\n",
       " 'symbols': [],\n",
       " 'user_mentions': [{'screen_name': 'NedalSwehli',\n",
       "   'name': 'Nedal Swehli',\n",
       "   'id': 855055316697960448,\n",
       "   'id_str': '855055316697960448',\n",
       "   'indices': [0, 12]},\n",
       "  {'screen_name': 'AP',\n",
       "   'name': 'The Associated Press',\n",
       "   'id': 51241574,\n",
       "   'id_str': '51241574',\n",
       "   'indices': [14, 17]}],\n",
       " 'urls': []}"
      ]
     },
     "execution_count": 7,
     "metadata": {},
     "output_type": "execute_result"
    }
   ],
   "source": [
    "#this function defines the account holder\n",
    "mention=api.mentions_timeline(count=25)\n",
    "accountHolder=mention[9]['user']['screen_name']\n",
    "accountHolder\n",
    "\n",
    "mention[0]['entities']"
   ]
  },
  {
   "cell_type": "code",
   "execution_count": 21,
   "metadata": {},
   "outputs": [
    {
     "name": "stdout",
     "output_type": "stream",
     "text": [
      "NedalSwehli\n",
      "AP\n",
      "NedalSwehli\n",
      "ABC\n",
      "NedalSwehli\n",
      "nytimes\n",
      "NedalSwehli\n",
      "BBCWorld\n",
      "NedalSwehli\n",
      "CNNPolitics\n",
      "NedalSwehli\n",
      "CNNPolitics\n",
      "cnni\n",
      "NedalSwehli\n",
      "NedalSwehli\n",
      "ABC\n",
      "NedalSwehli\n",
      "AFP\n",
      "NedalSwehli\n",
      "latimes\n",
      "NedalSwehli\n",
      "CBSNews\n",
      "NedalSwehli\n",
      "washingtonpost\n",
      "NedalSwehli\n",
      "nytimes\n",
      "NedalSwehli\n",
      "CNN\n",
      "NedalSwehli\n",
      "BBCWorld\n",
      "NedalSwehli\n",
      "NedalSwehli\n"
     ]
    },
    {
     "data": {
      "text/plain": [
       "['AP',\n",
       " 'ABC',\n",
       " 'nytimes',\n",
       " 'BBCWorld',\n",
       " 'CNNPolitics',\n",
       " 'cnni',\n",
       " 'AFP',\n",
       " 'latimes',\n",
       " 'CBSNews',\n",
       " 'washingtonpost',\n",
       " 'CNN']"
      ]
     },
     "execution_count": 21,
     "metadata": {},
     "output_type": "execute_result"
    }
   ],
   "source": [
    "#This function retrieves the data using the API\n",
    "users=[]\n",
    "\n",
    "mention=api.mentions_timeline(count=25)\n",
    "\n",
    "#this function will search for any words in recent mentions that follows the symbol \" @ \"\n",
    "\n",
    "for tweet in mention:\n",
    "    wordList= (tweet[\"text\"])\n",
    "    x=re.findall(r\"@(\\w+)\", wordList)\n",
    "    for y in x:\n",
    "        print (y)\n",
    "        if y not in users and y!=accountHolder:\n",
    "            users.append(y)\n",
    "\n",
    "\n",
    "\n",
    "users"
   ]
  },
  {
   "cell_type": "code",
   "execution_count": 22,
   "metadata": {},
   "outputs": [
    {
     "data": {
      "text/plain": [
       "['AP']"
      ]
     },
     "execution_count": 22,
     "metadata": {},
     "output_type": "execute_result"
    }
   ],
   "source": [
    "#this function add the results to the users list to be analayzed, \n",
    "#but excludes twitter accounts that has been previously anaylzed.\n",
    "\n",
    "# Target Account\n",
    "target_user=[]\n",
    "for user in users:\n",
    "    if user not in completed:\n",
    "        target_user.append(user)\n",
    "\n",
    "\n",
    "userList=[]\n",
    "dateList=[]\n",
    "compoundList=[]\n",
    "postiveList=[]\n",
    "negativeList=[]\n",
    "neutralList=[]\n",
    "newsOrgList=[]\n",
    "tweetsAgoList=[]\n",
    "\n",
    "for user in target_user:\n",
    "\n",
    "        # Counter\n",
    "        counter = 1\n",
    "\n",
    "\n",
    "        # Variable for max_id\n",
    "        oldest_tweet = None\n",
    "\n",
    "        # Loop through 5 pages of tweets (total 100 tweets)\n",
    "        for x in range(5):\n",
    "\n",
    "            # Get all tweets from home feed\n",
    "            try:\n",
    "                public_tweets = api.user_timeline(user, max_id = oldest_tweet)\n",
    "            except:\n",
    "                continue\n",
    "\n",
    "            # Loop through all tweets \n",
    "            for tweet in public_tweets:\n",
    "\n",
    "                # Print Tweets\n",
    "                # print(\"Tweet {counter}: {tweet[\"text\"]})\n",
    "\n",
    "                # Run Vader Analysis on each tweet\n",
    "                results = analyzer.polarity_scores(tweet[\"text\"])\n",
    "                compound = results[\"compound\"]\n",
    "                pos = results[\"pos\"]\n",
    "                neu = results[\"neu\"]\n",
    "                neg = results[\"neg\"]\n",
    "\n",
    "                # Get Tweet ID, subtract 1, and assign to oldest_tweet\n",
    "                oldest_tweet = tweet['id'] - 1\n",
    "\n",
    "                # Add sentiments for each tweet into a list\n",
    "                userList.append(user)\n",
    "                dateList.append(tweet[\"created_at\"])\n",
    "                compoundList.append(compound)\n",
    "                postiveList.append(pos)\n",
    "                negativeList.append(neg)\n",
    "                neutralList.append(neu)\n",
    "                tweetsAgoList.append(counter)\n",
    "                completed.append(user)\n",
    "\n",
    "\n",
    "                # Add to counter \n",
    "                counter += 1\n",
    "        \n",
    "\n",
    "target_user"
   ]
  },
  {
   "cell_type": "code",
   "execution_count": 23,
   "metadata": {},
   "outputs": [
    {
     "data": {
      "text/plain": [
       "{'ABC',\n",
       " 'AFP',\n",
       " 'AP',\n",
       " 'BBCWorld',\n",
       " 'CBSNews',\n",
       " 'CNN',\n",
       " 'CNNPolitics',\n",
       " 'cnni',\n",
       " 'latimes',\n",
       " 'nytimes',\n",
       " 'washingtonpost'}"
      ]
     },
     "execution_count": 23,
     "metadata": {},
     "output_type": "execute_result"
    }
   ],
   "source": [
    "#list of completed twitter accounts\n",
    "ListOfAnalyzedAccounts=set(completed)\n",
    "\n",
    "ListOfAnalyzedAccounts"
   ]
  },
  {
   "cell_type": "code",
   "execution_count": 24,
   "metadata": {},
   "outputs": [
    {
     "data": {
      "text/html": [
       "<div>\n",
       "<style scoped>\n",
       "    .dataframe tbody tr th:only-of-type {\n",
       "        vertical-align: middle;\n",
       "    }\n",
       "\n",
       "    .dataframe tbody tr th {\n",
       "        vertical-align: top;\n",
       "    }\n",
       "\n",
       "    .dataframe thead th {\n",
       "        text-align: right;\n",
       "    }\n",
       "</style>\n",
       "<table border=\"1\" class=\"dataframe\">\n",
       "  <thead>\n",
       "    <tr style=\"text-align: right;\">\n",
       "      <th></th>\n",
       "      <th>User</th>\n",
       "      <th>Created</th>\n",
       "      <th>Compound</th>\n",
       "      <th>Positive</th>\n",
       "      <th>Negative</th>\n",
       "      <th>Neutral</th>\n",
       "      <th>Tweets ago</th>\n",
       "    </tr>\n",
       "  </thead>\n",
       "  <tbody>\n",
       "    <tr>\n",
       "      <th>0</th>\n",
       "      <td>AP</td>\n",
       "      <td>Sat Nov 09 14:16:40 +0000 2019</td>\n",
       "      <td>-0.4404</td>\n",
       "      <td>0.000</td>\n",
       "      <td>0.132</td>\n",
       "      <td>0.868</td>\n",
       "      <td>1</td>\n",
       "    </tr>\n",
       "    <tr>\n",
       "      <th>1</th>\n",
       "      <td>AP</td>\n",
       "      <td>Sat Nov 09 13:31:05 +0000 2019</td>\n",
       "      <td>-0.3400</td>\n",
       "      <td>0.000</td>\n",
       "      <td>0.118</td>\n",
       "      <td>0.882</td>\n",
       "      <td>2</td>\n",
       "    </tr>\n",
       "    <tr>\n",
       "      <th>2</th>\n",
       "      <td>AP</td>\n",
       "      <td>Sat Nov 09 13:01:03 +0000 2019</td>\n",
       "      <td>0.0000</td>\n",
       "      <td>0.000</td>\n",
       "      <td>0.000</td>\n",
       "      <td>1.000</td>\n",
       "      <td>3</td>\n",
       "    </tr>\n",
       "    <tr>\n",
       "      <th>3</th>\n",
       "      <td>AP</td>\n",
       "      <td>Sat Nov 09 12:31:04 +0000 2019</td>\n",
       "      <td>0.0000</td>\n",
       "      <td>0.000</td>\n",
       "      <td>0.000</td>\n",
       "      <td>1.000</td>\n",
       "      <td>4</td>\n",
       "    </tr>\n",
       "    <tr>\n",
       "      <th>4</th>\n",
       "      <td>AP</td>\n",
       "      <td>Sat Nov 09 12:21:11 +0000 2019</td>\n",
       "      <td>0.2960</td>\n",
       "      <td>0.121</td>\n",
       "      <td>0.000</td>\n",
       "      <td>0.879</td>\n",
       "      <td>5</td>\n",
       "    </tr>\n",
       "  </tbody>\n",
       "</table>\n",
       "</div>"
      ],
      "text/plain": [
       "  User                         Created  Compound  Positive  Negative  Neutral  \\\n",
       "0   AP  Sat Nov 09 14:16:40 +0000 2019   -0.4404     0.000     0.132    0.868   \n",
       "1   AP  Sat Nov 09 13:31:05 +0000 2019   -0.3400     0.000     0.118    0.882   \n",
       "2   AP  Sat Nov 09 13:01:03 +0000 2019    0.0000     0.000     0.000    1.000   \n",
       "3   AP  Sat Nov 09 12:31:04 +0000 2019    0.0000     0.000     0.000    1.000   \n",
       "4   AP  Sat Nov 09 12:21:11 +0000 2019    0.2960     0.121     0.000    0.879   \n",
       "\n",
       "   Tweets ago  \n",
       "0           1  \n",
       "1           2  \n",
       "2           3  \n",
       "3           4  \n",
       "4           5  "
      ]
     },
     "execution_count": 24,
     "metadata": {},
     "output_type": "execute_result"
    }
   ],
   "source": [
    "ZipList=list(zip(\n",
    "userList,\n",
    "dateList,\n",
    "compoundList,\n",
    "postiveList,\n",
    "negativeList,\n",
    "neutralList,\n",
    "tweetsAgoList,))\n",
    "\n",
    "sentiments_pd= pd.DataFrame(ZipList, columns = [\"User\",\"Created\",\n",
    "                                           \"Compound\",\n",
    "                                               \"Positive\",\n",
    "                                               \"Negative\",\n",
    "                                               \"Neutral\",\n",
    "                                               \"Tweets ago\"])\n",
    "\n",
    "\n",
    "# Convert sentiments to DataFrame\n",
    "sentiments_pd.head()"
   ]
  },
  {
   "cell_type": "code",
   "execution_count": 25,
   "metadata": {},
   "outputs": [
    {
     "data": {
      "image/png": "[encoded data removed]",
      "text/plain": [
       "<Figure size 432x288 with 1 Axes>"
      ]
     },
     "metadata": {},
     "output_type": "display_data"
    }
   ],
   "source": [
    "for tweep in target_user:\n",
    "    plotData=sentiments_pd.loc[sentiments_pd[\"User\"]==tweep,:]\n",
    "  \n",
    "    # Create plot\n",
    "    x_vals = plotData[\"Tweets ago\"]\n",
    "    y_vals = plotData[\"Compound\"]\n",
    "    plt.plot(x_vals, y_vals, marker=\"o\", linewidth=0.5, alpha=0.8)\n",
    "\n",
    "    # # Incorporate the other graph properties\n",
    "    now = datetime.now()\n",
    "    now = now.strftime(\"%Y-%m-%d %H:%M\")\n",
    "    plt.title(f\"Sentiment Analysis of Tweets ({now}) for {tweep}\")\n",
    "    plt.xlim(0,105)\n",
    "    plt.ylabel(\"Tweet Polarity\")\n",
    "    plt.xlabel(\"Tweets Ago\")\n",
    "    plt.savefig(f\"{tweep} SentimentatAnalysis.png\", pad_inches=0.5, bbox_inches=\"tight\")\n",
    "    plt.show()\n",
    "    file=f\"{tweep} SentimentatAnalysis.png\"\n",
    "    api.update_with_media(file, \"Data Analytics tweet sentimentat analysis(BOT)\")\n",
    "\n",
    "\n",
    "\n"
   ]
  },
  {
   "cell_type": "code",
   "execution_count": null,
   "metadata": {},
   "outputs": [],
   "source": []
  }
 ],
 "metadata": {
  "anaconda-cloud": {},
  "kernelspec": {
   "display_name": "Python 3",
   "language": "python",
   "name": "python3"
  },
  "language_info": {
   "codemirror_mode": {
    "name": "ipython",
    "version": 3
   },
   "file_extension": ".py",
   "mimetype": "text/x-python",
   "name": "python",
   "nbconvert_exporter": "python",
   "pygments_lexer": "ipython3",
   "version": "3.7.3"
  },
  "varInspector": {
   "cols": {
    "lenName": 16,
    "lenType": 16,
    "lenVar": 40
   },
   "kernels_config": {
    "python": {
     "delete_cmd_postfix": "",
     "delete_cmd_prefix": "del ",
     "library": "var_list.py",
     "varRefreshCmd": "print(var_dic_list())"
    },
    "r": {
     "delete_cmd_postfix": ") ",
     "delete_cmd_prefix": "rm(",
     "library": "var_list.r",
     "varRefreshCmd": "cat(var_dic_list()) "
    }
   },
   "types_to_exclude": [
    "module",
    "function",
    "builtin_function_or_method",
    "instance",
    "_Feature"
   ],
   "window_display": false
  }
 },
 "nbformat": 4,
 "nbformat_minor": 1
}

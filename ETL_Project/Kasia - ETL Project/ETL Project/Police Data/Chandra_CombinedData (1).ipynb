{
 "cells": [
  {
   "cell_type": "code",
   "execution_count": null,
   "metadata": {},
   "outputs": [],
   "source": [
    "#install simple_salesforce module\n",
    "#!pip install simple_salesforce"
   ]
  },
  {
   "cell_type": "code",
   "execution_count": null,
   "metadata": {},
   "outputs": [],
   "source": [
    "#Import Dependencies\n",
    "import pandas as pd\n",
    "import json\n",
    "from sqlalchemy import create_engine\n",
    "import pymysql\n",
    "pymysql.install_as_MySQLdb()"
   ]
  },
  {
   "cell_type": "code",
   "execution_count": null,
   "metadata": {},
   "outputs": [],
   "source": [
    "#Loading CSV files\n",
    "Arl=pd.read_csv(\"ModifiedOutput_Crime_Arlington.csv\")\n",
    "Bet=pd.read_csv(\"ModifiedOutput_Crime_Bethesda.csv\")\n",
    "DC=pd.read_csv(\"ModifiedOutput_Crime_DC.csv\")"
   ]
  },
  {
   "cell_type": "code",
   "execution_count": null,
   "metadata": {},
   "outputs": [],
   "source": [
    "#Adding City label to the data\n",
    "\n",
    "Arl[\"City\"]=\"Arlington,VA\"\n",
    "Bet[\"City\"]=\"Bethesda, MD\"\n",
    "DC[\"City\"]=\"Washington,D.C\"\n"
   ]
  },
  {
   "cell_type": "code",
   "execution_count": null,
   "metadata": {},
   "outputs": [],
   "source": [
    "#Limiting the data to 2019\n",
    "\n",
    "Arl = Arl.loc[Arl[\"Year\"] ==2019, :]\n",
    "Bet = Bet.loc[Bet[\"Year\"] ==2019, :]\n",
    "DC = DC.loc[DC[\"Year\"] ==2019, :]\n"
   ]
  },
  {
   "cell_type": "code",
   "execution_count": null,
   "metadata": {},
   "outputs": [],
   "source": [
    "#Changing column names (Latitude, Longtitude)\n",
    "\n",
    "Arl=Arl.rename(columns={\"Latitude (Arlington)\": \"Latitude\", \"Longitude (Arlington)\": \"Longitude\"})\n",
    "Bet=Bet.rename(columns={\"Latitude (Bethesda)\": \"Latitude\", \"Longitude (Bethesda)\": \"Longitude\"})\n",
    "DC=DC.rename(columns={\"Latitude (D.C.)\": \"Latitude\", \"Longitude (D.C.)\": \"Longitude\"})\n"
   ]
  },
  {
   "cell_type": "code",
   "execution_count": null,
   "metadata": {},
   "outputs": [],
   "source": [
    "#Droping extra columns\n",
    "\n",
    "Arl=Arl.drop(['Unnamed: 0'], axis=1)\n",
    "Bet=Bet.drop(['Unnamed: 0'], axis=1)\n",
    "DC=DC.drop(['Unnamed: 0'], axis=1)"
   ]
  },
  {
   "cell_type": "code",
   "execution_count": null,
   "metadata": {},
   "outputs": [],
   "source": [
    "Bet.head()\n",
    "\n"
   ]
  },
  {
   "cell_type": "code",
   "execution_count": null,
   "metadata": {},
   "outputs": [],
   "source": [
    "#combining all data\n",
    "\n",
    "Combined=pd.concat([Arl, Bet, DC])\n",
    "\n",
    "#Exporting data to csv file\n",
    "Combined.to_csv(\"CombinedData.csv\")\n",
    "\n"
   ]
  },
  {
   "cell_type": "code",
   "execution_count": null,
   "metadata": {},
   "outputs": [],
   "source": [
    "#Check Combined Dataframe\n",
    "combined=pd.read_csv(\"CombinedData.csv\", index_col=0)\n",
    "combined=combined.rename(columns={\"Crime Type\": \"CrimeType\"})\n",
    "\n",
    "combined.head()"
   ]
  },
  {
   "cell_type": "code",
   "execution_count": null,
   "metadata": {},
   "outputs": [],
   "source": [
    "combined.count()"
   ]
  },
  {
   "cell_type": "code",
   "execution_count": null,
   "metadata": {},
   "outputs": [],
   "source": [
    "#Import configuration variables\n",
    "# import sys\n",
    "# sys.path.append('../../../../')\n",
    "from config import sf_grant_type, sf_client_id, sf_client_secret, sf_username, sf_password, sf_security_token, sf_endpoint\n"
   ]
  },
  {
   "cell_type": "code",
   "execution_count": null,
   "metadata": {},
   "outputs": [],
   "source": [
    "#set up salesforce\n",
    "from simple_salesforce import Salesforce\n",
    "sf = Salesforce(username=sf_username, password=sf_password, security_token=sf_security_token)"
   ]
  },
  {
   "cell_type": "code",
   "execution_count": null,
   "metadata": {},
   "outputs": [],
   "source": [
    "#convert df to a list of dictionaries to help with bulk insert\n",
    "combined_load = combined.to_dict('records')\n",
    "combined_load"
   ]
  },
  {
   "cell_type": "code",
   "execution_count": null,
   "metadata": {},
   "outputs": [],
   "source": [
    "#Insert rows individually by looping throught the DF\n",
    "'''\n",
    "for index, row in combined.iterrows():\n",
    "\n",
    "    record = {\n",
    "        'CrimeType__c': row['CrimeType'],\n",
    "        'Year__c': row['Year'],\n",
    "        'Latitude__c': row['Latitude'],\n",
    "        'Longitude__c': row['Longitude'],\n",
    "        'City__c':row['City']\n",
    "    }\n",
    "    \n",
    "    try:\n",
    "        sf.CrimeData__c.create(record)\n",
    "    except Exception as e:\n",
    "        print(e)\n",
    "'''"
   ]
  },
  {
   "cell_type": "code",
   "execution_count": null,
   "metadata": {},
   "outputs": [],
   "source": [
    "column_changes = {\n",
    "        \"CrimeType\":\"CrimeType__c\",\n",
    "        \"Year\":\"Year__c\",\n",
    "        \"Latitude\":\"Latitude__c\",\n",
    "        \"Longitude\":\"Longitude__c\",\n",
    "        \"City\":\"City__c\"\n",
    "}\n",
    "\n",
    "combined = combined.rename(columns=column_changes)\n",
    "combined_load = combined.to_dict('records')\n",
    "combined_load"
   ]
  },
  {
   "cell_type": "code",
   "execution_count": null,
   "metadata": {},
   "outputs": [],
   "source": [
    "#inserting rows in bulk\n",
    "try:\n",
    "    sf.bulk.CrimeData__c.insert(combined_load)\n",
    "except Exception as e:\n",
    "    print(e)"
   ]
  },
  {
   "cell_type": "code",
   "execution_count": null,
   "metadata": {},
   "outputs": [],
   "source": []
  }
 ],
 "metadata": {
  "kernelspec": {
   "display_name": "Python 3",
   "language": "python",
   "name": "python3"
  },
  "language_info": {
   "codemirror_mode": {
    "name": "ipython",
    "version": 3
   },
   "file_extension": ".py",
   "mimetype": "text/x-python",
   "name": "python",
   "nbconvert_exporter": "python",
   "pygments_lexer": "ipython3",
   "version": "3.7.3"
  }
 },
 "nbformat": 4,
 "nbformat_minor": 2
}

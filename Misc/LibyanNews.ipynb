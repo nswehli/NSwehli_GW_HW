{
 "cells": [
  {
   "cell_type": "code",
   "execution_count": 1,
   "metadata": {},
   "outputs": [],
   "source": [
    "from bs4 import BeautifulSoup as BS\n",
    "import requests\n",
    "import urllib.request\n",
    "import datetime"
   ]
  },
  {
   "cell_type": "code",
   "execution_count": 2,
   "metadata": {},
   "outputs": [
    {
     "name": "stdout",
     "output_type": "stream",
     "text": [
      "Today's date: 2019-12-26\n",
      "2019-12-26 10:44:25.333849\n"
     ]
    }
   ],
   "source": [
    "from datetime import date\n",
    "from datetime import datetime\n",
    "today = date.today()\n",
    "print(\"Today's date:\", today)\n",
    "Now=datetime.now()\n",
    "\n",
    "print(Now)"
   ]
  },
  {
   "cell_type": "code",
   "execution_count": 35,
   "metadata": {},
   "outputs": [
    {
     "data": {
      "text/plain": [
       "{'Headline': {'Headline': 'صنع الله يترأس اجتماع «عمومية رأس لانوف».. ويشيد بدورها في النهوض بالاقتصاد',\n",
       "  'Link': 'http://alwasat.ly/news/libya/267933',\n",
       "  'Image': 'http://cdn-ar-1.alwasat.ly/uploads/articles/4BXl3yLFkfibydmOlrzO.jpg'},\n",
       " 'Subheadlines': [{'subheadline': 'تعاون ليبي مصري للقبض على 3 مطلوبين في قضايا جنائية',\n",
       "   'Link': 'http://alwasat.ly/news/libya/267931'},\n",
       "  {'subheadline': 'صيانة خزاني غاز مسال بسعة 1462 متر مكعب في مستودع الزاوية النفطي',\n",
       "   'Link': 'http://alwasat.ly/news/libya/267929'}],\n",
       " 'OtherNews': [{'OtherNews': '«الأزمة الليبية» في مكالمة هاتفية بين دي مايو وبومبيو',\n",
       "   'Link': 'http://alwasat.ly/news/libya/267928'},\n",
       "  {'OtherNews': 'في الجمعية العمومية.. شركة سرت تستعرض أداء حقولها واحتياطاتها النفطية',\n",
       "   'Link': 'http://alwasat.ly/news/libya/267927'},\n",
       "  {'OtherNews': 'السراج: توقيع مذكرة التفاهم البحرية مع تركيا حق سيادي تأخر 15 عاما',\n",
       "   'Link': 'http://alwasat.ly/news/libya/267926'},\n",
       "  {'OtherNews': '«المطارات» تعلن عودة الرحلات الداخلية بين بنينا و«الزنتان والكفرة وسبها»',\n",
       "   'Link': 'http://alwasat.ly/news/libya/267923'}]}"
      ]
     },
     "execution_count": 35,
     "metadata": {},
     "output_type": "execute_result"
    }
   ],
   "source": [
    "#Alwasat News\n",
    "\n",
    "url = \"http://alwasat.ly/section/libya\"\n",
    "response = requests.get(url)\n",
    "soup = BS(response.text, 'html.parser')\n",
    "\n",
    "WasatSubheadlines=[]\n",
    "WasatOtherNews=[]\n",
    "\n",
    "\n",
    "headlines=soup.find(class_=\"war-right\")\n",
    "Link=headlines.find(\"a\")[\"href\"]\n",
    "News=headlines.find(class_=\"h4-larg-font\").text\n",
    "Image=headlines.find(\"img\")[\"src\"]\n",
    "\n",
    "WasatNewsHeadline = {\"Headline\": News, \"Link\": Link, \"Image\": Image}\n",
    "\n",
    "Subnews=soup.find_all(class_=\"section-page-news-with-img\")\n",
    "for x in Subnews:\n",
    "    subheadline=(x.find( class_=\"h4-small-font\").text)\n",
    "    subLink=(x(\"a\")[0][\"href\"])\n",
    "    subheadlines={\"subheadline\":subheadline,\"Link\":subLink}\n",
    "    WasatSubheadlines.append(subheadlines)\n",
    "    \n",
    "    \n",
    "OtherNews=soup.find_all(class_=\"section-left-list\")\n",
    "for x in OtherNews:\n",
    "        OtherNews=(x.find( class_=\"h4-small-font-ext\").text)\n",
    "        Link=(x(\"a\")[0][\"href\"])\n",
    "        otherNews={\"OtherNews\":OtherNews\n",
    "                  ,\"Link\":Link}\n",
    "        WasatOtherNews.append(otherNews)\n",
    "\n",
    "WasatNews = {\"Headline\": WasatNewsHeadline,\n",
    "                         \"Subheadlines\": WasatSubheadlines,\n",
    "             \"OtherNews\":WasatOtherNews\n",
    "                         }\n",
    "\n",
    "WasatNews"
   ]
  },
  {
   "cell_type": "code",
   "execution_count": 150,
   "metadata": {},
   "outputs": [
    {
     "name": "stdout",
     "output_type": "stream",
     "text": [
      "<Response [200]>\n"
     ]
    },
    {
     "data": {
      "text/plain": [
       "10"
      ]
     },
     "execution_count": 150,
     "metadata": {},
     "output_type": "execute_result"
    }
   ],
   "source": [
    "#Libya24\n",
    "\n",
    "url = \"https://libya24.tv/category/news\"\n",
    "response = requests.get(url)\n",
    "soup24 = BS(response.text, 'html.parser')\n",
    "newsLib24=soup24.find_all(\"figure\")\n",
    "print(response)\n",
    "\n",
    "Libya24News=[]\n",
    "for x in newsLib24:\n",
    "    Headline=(x(\"a\")[0][\"title\"])\n",
    "    Link=(x(\"a\")[0][\"href\"])\n",
    "    News={\"Headline\": Headline\n",
    "         ,\"Link\": Link\n",
    "         , \"Image\": Image}\n",
    "    Libya24News.append(News)\n",
    "\n",
    "len(Libya24News)\n",
    "    "
   ]
  },
  {
   "cell_type": "code",
   "execution_count": 149,
   "metadata": {},
   "outputs": [
    {
     "name": "stdout",
     "output_type": "stream",
     "text": [
      "<Response [200]>\n"
     ]
    },
    {
     "data": {
      "text/plain": [
       "{'Headline': {'Headline': 'مصراتة.. وقفات في شوارع المدينة تحديا لمهلة حفتر',\n",
       "  'Link': 'https://www.aljazeera.net//news/politics/2019/12/26/ليبيا-مصراتة-مهلة-حفتر-طرابلس',\n",
       "  'Image': 'https://www.aljazeera.net//File/GetImageCustom/263ab796-1042-4ceb-85ae-5923235c332d/555/313'},\n",
       " 'Subheadlines': [{'Headline': 'وسط حراك دبلوماسي بشأن الأزمة.. البرلمان التركي يبحث إرسال قوات إلى ليبيا',\n",
       "   'Link': 'https://www.aljazeera.net//news/politics/2019/12/24/البرلمان-التركي-إرسال-قوات-ليبيا'},\n",
       "  {'Headline': 'هل بمقدور حفتر تنفيذ تهديداته باجتياح مصراتة؟',\n",
       "   'Link': 'https://www.aljazeera.net//news/politics/2019/12/24/ليبيا-مصراتة-حفتر'},\n",
       "  {'Headline': 'تجاهل ذِكر حفتر ووصفه بالمعتدي.. السراج في حوار مع صحيفة إيطالية بليبيا',\n",
       "   'Link': 'https://www.aljazeera.net//news/politics/2019/12/23/السراج-مقابلة-حكومة-الوفاق-ليبيا-أسلحة-تركيا-إيطاليا-طلبه-حفتر-المعتدي'},\n",
       "  {'Headline': 'أكدت أنها مبرر لفشل \"ساعة الصفر\".. الوفاق الليبية ترفض مهلة حفتر لقوات مصراتة',\n",
       "   'Link': 'https://www.aljazeera.net//news/politics/2019/12/23/ليبيا-حفتر-حكومة-الوفاق-مصراتة-سرت'},\n",
       "  {'Headline': 'بعد تعهد أردوغان بمنع سقوط حكومة الوفاق.. قوات حفتر ترصد نقل أسلحة تركية لطرابلس',\n",
       "   'Link': 'https://www.aljazeera.net//news/politics/2019/12/22/ليبيا-حفتر-مصراتة-طرابلس'},\n",
       "  {'Headline': 'عقب غارات بطائرات إماراتية.. السراج يهدد برد شديد على هجوم مسلاتة',\n",
       "   'Link': 'https://www.aljazeera.net//news/politics/2019/12/21/السراج-هجوم-امسلاتة-لن-يمر-دون-رد-بساحات-المعركة'}]}"
      ]
     },
     "execution_count": 149,
     "metadata": {},
     "output_type": "execute_result"
    }
   ],
   "source": [
    "#AlJazeera \n",
    "\n",
    "url = \"https://www.aljazeera.net/countries/libya\"\n",
    "response = requests.get(url)\n",
    "soup= BS(response.text, 'html.parser')\n",
    "news=soup.find_all(id=\"top-stories\")\n",
    "print(response)\n",
    "\n",
    "News=[]\n",
    "\n",
    "for x in news:\n",
    "    MainHeadline=(x.find(class_=\"main_title_new\").get_text().strip())\n",
    "    Link=(\"https://www.aljazeera.net/\"+x.find(class_=\"main_title_new\")(\"a\")[0][\"href\"])\n",
    "    Image=(\"https://www.aljazeera.net/\"+x.find(\"img\")[\"src\"])\n",
    "    MainHeadline={\"Headline\": MainHeadline\n",
    "                 , \"Link\": Link\n",
    "                 , \"Image\": Image}\n",
    "    \n",
    "    \n",
    "for x in news:\n",
    "    y=x.find_all(class_=\"tb3\")\n",
    "    for item in y:\n",
    "        Headline=(item(\"img\")[0][\"title\"])\n",
    "        Link=(\"https://www.aljazeera.net/\"+item[\"href\"])\n",
    "        otherNews={\"Headline\":Headline\n",
    "                  ,\"Link\": Link}\n",
    "        News.append(otherNews)\n",
    "        \n",
    "        \n",
    "AlJazeeraNews = {\"Headline\": MainHeadline,\n",
    "                         \"Subheadlines\": News\n",
    "                                          }\n",
    "AlJazeeraNews\n"
   ]
  },
  {
   "cell_type": "code",
   "execution_count": 147,
   "metadata": {},
   "outputs": [
    {
     "data": {
      "text/plain": [
       "10"
      ]
     },
     "execution_count": 147,
     "metadata": {},
     "output_type": "execute_result"
    }
   ],
   "source": [
    "#Libya 218\n",
    "\n",
    "url = \"https://www.218tv.net/category/سياسة/أخبار-ليبيا\"\n",
    "response = requests.get(url)\n",
    "response\n",
    "soup= BS(response.text, 'html.parser')\n",
    "Libya218News=[]\n",
    "Counter=0\n",
    "news=soup.find_all(class_=\"post-element\")\n",
    "for x in news:\n",
    "    Headline=(x.find(class_=\"featured-area\")(\"a\")[0][\"aria-label\"])\n",
    "    Link=(x.find(class_=\"featured-area\")(\"a\")[0][\"href\"])\n",
    "    Image=(x.find(class_=\"featured-area\")(\"img\")[0][\"src\"])\n",
    "    MainHeadline={\"Headline\": Headline\n",
    "                 , \"Link\": Link\n",
    "                 , \"Image\": Image}\n",
    "    Libya218News.append(MainHeadline)\n",
    "    \n",
    "len(Libya218News)"
   ]
  },
  {
   "cell_type": "code",
   "execution_count": 3,
   "metadata": {},
   "outputs": [
    {
     "data": {
      "text/plain": [
       "[{'Headline': 'البرلمان التركي سيصوت على إرسال قوات إلى ليبيا',\n",
       "  'Link': 'https://www.bbc.com//arabic/middleeast-50916096'},\n",
       " {'Headline': 'أردوغان في زيارة مفاجئة لتونس لبحث \"وقف إطلاق النار\" في ليبيا',\n",
       "  'Link': 'https://www.bbc.com//arabic/middleeast-50911014'},\n",
       " {'Headline': 'أفريقيا في أسبوع بالصور',\n",
       "  'Link': 'https://www.bbc.com//arabic/world-50884878'},\n",
       " {'Headline': 'أردوغان \"لن يتراجع عن الاتفاق\" مع حكومة الوفاق الليبية',\n",
       "  'Link': 'https://www.bbc.com//arabic/middleeast-50884874'},\n",
       " {'Headline': 'أردوغان: تركيا سوف تسرع وتيرة التعاون مع ليبيا مع تقديم الدعم العسكري عند الحاجة',\n",
       "  'Link': 'https://www.bbc.com//arabic/middleeast-50835498'},\n",
       " {'Headline': 'تحركات تركيا الأخيرة للتنقيب عن الغاز في شرق المتوسط \"قد تشعل بؤرة توتر جديدة\"',\n",
       "  'Link': 'https://www.bbc.com//arabic/middleeast-50823072'},\n",
       " {'Headline': 'هل تشهد أراضي ليبيا مواجهة عسكرية بين السيسي وإردوغان؟',\n",
       "  'Link': 'https://www.bbc.com//arabic/interactivity-50826462'},\n",
       " {'Headline': 'هل يمهد الاتفاق الليبي-التركي للتدخل العسكري التركي في ليبيا؟',\n",
       "  'Link': 'https://www.bbc.com//arabic/middleeast-50801453'},\n",
       " {'Headline': 'هل يصب الاتفاق العسكري بين تركيا وليبيا \"الزيت على النار\"؟',\n",
       "  'Link': 'https://www.bbc.com//arabic/inthepress-50808249'},\n",
       " {'Headline': 'الفاينانشال تايمز: الانتخابات الرئاسية الجزائرية تفشل في إخماد الغضب الشعبي',\n",
       "  'Link': 'https://www.bbc.com//arabic/inthepress-50805342'}]"
      ]
     },
     "execution_count": 3,
     "metadata": {},
     "output_type": "execute_result"
    }
   ],
   "source": [
    "#BBCArabic\n",
    "\n",
    "url = \"https://www.bbc.com/arabic/topics/cnq681w1w42t\"\n",
    "response = requests.get(url)\n",
    "response\n",
    "soup= BS(response.text, 'html.parser')\n",
    "BBCArabic=[]\n",
    "results=soup.find_all(class_=\"qa-heading-link lx-stream-post__header-link\")\n",
    "for x in results:\n",
    "    Headline=(x.text.strip())\n",
    "    Link=(\"https://www.bbc.com/\"+x[\"href\"])\n",
    "    Headlines={\"Headline\":Headline\n",
    "              ,\"Link\":Link}\n",
    "    BBCArabic.append(Headlines)\n",
    "BBCArabic"
   ]
  },
  {
   "cell_type": "code",
   "execution_count": 146,
   "metadata": {},
   "outputs": [
    {
     "data": {
      "text/plain": [
       "10"
      ]
     },
     "execution_count": 146,
     "metadata": {},
     "output_type": "execute_result"
    }
   ],
   "source": [
    "#Russia Today\n",
    "\n",
    "url = \"https://arabic.rt.com/focuses/63564-%D9%84%D9%8A%D8%A8%D9%8A%D8%A7/\"\n",
    "response = requests.get(url)\n",
    "response\n",
    "soup= BS(response.text, 'html.parser')\n",
    "RTArabic=[]\n",
    "results=soup.find_all(class_=\"heading\")\n",
    "for x in results:\n",
    "    Headline=(x.text.strip())\n",
    "    Link=(\"https://arabic.rt.com\"+x[\"href\"])\n",
    "    Headlines={\"Headline\":Headline\n",
    "              ,\"Link\":Link}\n",
    "    RTArabic.append(Headlines)\n",
    "len(RTArabic)"
   ]
  },
  {
   "cell_type": "code",
   "execution_count": 41,
   "metadata": {},
   "outputs": [
    {
     "data": {
      "text/plain": [
       "10"
      ]
     },
     "execution_count": 41,
     "metadata": {},
     "output_type": "execute_result"
    }
   ],
   "source": [
    "#AlRaed\n",
    "\n",
    "url = \"https://www.arraedlg.net/\"\n",
    "response = requests.get(url)\n",
    "AlRaed=[]\n",
    "soup= BS(response.text, 'html.parser')\n",
    "results=soup.find_all(\"h2\", class_=\"post-box-title\")\n",
    "for x in results:\n",
    "    Headline=(x.text.strip())\n",
    "    Link=(x(\"a\")[0][\"href\"])\n",
    "    Headlines={\"Headline\":Headline\n",
    "              ,\"Link\":Link}\n",
    "    AlRaed.append(Headlines)\n",
    "len(AlRaed)\n",
    "\n"
   ]
  },
  {
   "cell_type": "code",
   "execution_count": 145,
   "metadata": {},
   "outputs": [
    {
     "data": {
      "text/plain": [
       "12"
      ]
     },
     "execution_count": 145,
     "metadata": {},
     "output_type": "execute_result"
    }
   ],
   "source": [
    "#AlAhrar\n",
    "url = \"https://www.libyaalahrar.tv/local/\"\n",
    "headers = {\n",
    "    'User-Agent': 'Mozilla/5.0 (Windows NT 10.0; Win64; x64) AppleWebKit/537.36 (KHTML, like Gecko) Chrome/79.0.3945.88 Safari/537.36',\n",
    "  \n",
    "}\n",
    "LibyaAhrar=[]\n",
    "response = requests.get(url, headers=headers)\n",
    "soup= BS(response.text, 'html.parser')\n",
    "results=soup.find_all(class_=\"thumb-title\")\n",
    "for x in results:\n",
    "    Headline=(x.text)\n",
    "    Link=(x(\"a\")[0][\"href\"])\n",
    "    Headlines={\"Headline\":Headline\n",
    "               ,\"Link\":Link}\n",
    "    LibyaAhrar.append(Headlines)\n",
    "\n",
    "len(LibyaAhrar)"
   ]
  },
  {
   "cell_type": "code",
   "execution_count": 144,
   "metadata": {},
   "outputs": [
    {
     "data": {
      "text/plain": [
       "10"
      ]
     },
     "execution_count": 144,
     "metadata": {},
     "output_type": "execute_result"
    }
   ],
   "source": [
    "#AlMarsad\n",
    "url = \"https://almarsad.co/category/%d9%85%d8%ad%d9%84%d9%8a/\"\n",
    "headers = {\n",
    "    'User-Agent': 'Mozilla/5.0 (Windows NT 10.0; Win64; x64) AppleWebKit/537.36 (KHTML, like Gecko) Chrome/79.0.3945.88 Safari/537.36',\n",
    "  \n",
    "}\n",
    "AlMarsad=[]\n",
    "response = requests.get(url, headers=headers)\n",
    "soup= BS(response.text, 'html.parser')\n",
    "results=soup.find_all(class_=\"cb-post-title\")\n",
    "for news in results[:10]:\n",
    "    Headline=(news.text.strip())\n",
    "    Link=(news(\"a\")[0][\"href\"])\n",
    "    Headlines={\"Headline\":Headline\n",
    "              ,\"Link\": Link}\n",
    "    AlMarsad.append(Headlines)\n",
    "    \n",
    "len(AlMarsad)"
   ]
  },
  {
   "cell_type": "code",
   "execution_count": 142,
   "metadata": {},
   "outputs": [
    {
     "name": "stdout",
     "output_type": "stream",
     "text": [
      "<Response [200]>\n",
      "ما هي مواقف الدول المغاربية بشأن \"معركة طرابلس\"؟\n",
      "أردوغان يريد تفويضا من البرلمان لإرسال قوات تركية إلى ليبيا\n",
      "أردوغان يؤكد على أهمية مشاركة تونس والجزائر وقطر في مسار حل أزمة ليبيا\n",
      "تونس: الرئيس التركي رجب طيب أردوغان يبحث مع قيس سعيد وقف إطلاق النار في ليبيا\n",
      "ليبيا .. نحو تدويل لمعركة طرابلس؟\n",
      "أردوغان: \"إذا اقتضت الضرورة سنزيد دعمنا العسكري لليبيا ونقيم كل خياراتنا من البر والجو والبحر\"\n",
      "ليبيا: قوات حفتر تعلن ضبط سفينة تركية قبالة ساحل درنة\n",
      "برلمان تركيا يصادق على اتفاق التعاون العسكري مع حكومة الوفاق الوطني الليبية\n",
      "ليبيا: حكومة الوفاق تطلب مساعدة خمس دول \"صديقة\" لتفعيل اتفاقيات التعاون الأمني\n",
      "ليبيا: حكومة الوفاق الوطني \"توافق على تفعيل\" اتفاق عسكري مع تركيا\n"
     ]
    }
   ],
   "source": [
    "#France24\n",
    "url = \"https://www.france24.com/ar/tag/%D9%84%D9%8A%D8%A8%D9%8A%D8%A7/\"\n",
    "headers = {\n",
    "    'User-Agent': 'Mozilla/5.0 (Windows NT 10.0; Win64; x64) AppleWebKit/537.36 (KHTML, like Gecko) Chrome/79.0.3945.88 Safari/537.36',\n",
    "}\n",
    "France24=[]\n",
    "response = requests.get(url, headers=headers)\n",
    "soup= BS(response.text, 'html.parser')\n",
    "results=soup.find_all(class_=\"m-item-list-article\")\n",
    "print(response)\n",
    "for news in results[:10]:\n",
    "    Headline=(news.find(class_=\"article__title\").text.strip())\n",
    "    Link=(\"https://www.france24.com/\"+news(\"a\")[0][\"href\"])\n",
    "    Headlines={\"Headline\":Headline\n",
    "              ,\"Link\": Link}\n",
    "    France24.append(Headlines)\n",
    "    \n",
    "for x in France24:\n",
    "    print(x[\"Headline\"])\n",
    "\n"
   ]
  },
  {
   "cell_type": "code",
   "execution_count": 45,
   "metadata": {},
   "outputs": [],
   "source": [
    "#AlHadeth\n",
    "url = \"https://libyaalhadath.net/?cat=5\"\n",
    "headers = {\n",
    "    'User-Agent': 'Mozilla/5.0 (Windows NT 10.0; Win64; x64) AppleWebKit/537.36 (KHTML, like Gecko) Chrome/79.0.3945.88 Safari/537.36',\n",
    "}\n",
    "AlHadeth=[]\n",
    "response = requests.get(url, headers=headers)\n",
    "soup= BS(response.text, 'html.parser')\n",
    "\n",
    "results=soup.find_all(class_=\"post-item-inner\")\n",
    "for x in results:\n",
    "    Headline=(x(\"a\")[0][\"title\"])\n",
    "    Link=(x(\"a\")[0][\"href\"])\n",
    "    Headlines={\"Headline\":Headline\n",
    "              ,\"Link\": Link}\n",
    "    AlHadeth.append(Headlines)"
   ]
  },
  {
   "cell_type": "code",
   "execution_count": 34,
   "metadata": {},
   "outputs": [
    {
     "data": {
      "text/plain": [
       "{'Headline': 'الجيش السوداني يردّ على تصريحات أردوغان ',\n",
       " 'Link': 'https://www.afrigatenews.net//article/الجيش-السوداني-يردّ-على-تصريحات-أردوغان'}"
      ]
     },
     "execution_count": 34,
     "metadata": {},
     "output_type": "execute_result"
    }
   ],
   "source": [
    "#BawabaAfrica\n",
    "\n",
    "url = \"https://www.afrigatenews.net/section/%D9%84%D9%8A%D8%A8%D9%8A%D8%A7/\"\n",
    "headers = {\n",
    "    'User-Agent': 'Mozilla/5.0 (Windows NT 10.0; Win64; x64) AppleWebKit/537.36 (KHTML, like Gecko) Chrome/79.0.3945.88 Safari/537.36',\n",
    "}\n",
    "BawabaAfrica=[]\n",
    "response = requests.get(url, headers=headers)\n",
    "soup= BS(response.text, 'html.parser')\n",
    "\n",
    "results=soup.find(class_=\"section-content\")\n",
    "news=results.find_all(class_=\"wt\")\n",
    "for x in news:\n",
    "    Headline=(x('a')[0].text)\n",
    "    Link=(\"https://www.afrigatenews.net/\"+x('a')[0][\"href\"])\n",
    "    Headlines={\"Headline\":Headline\n",
    "              ,\"Link\": Link}\n",
    "    BawabaAfrica.append(Headlines)\n",
    "BawabaAfrica"
   ]
  },
  {
   "cell_type": "code",
   "execution_count": 141,
   "metadata": {},
   "outputs": [
    {
     "name": "stdout",
     "output_type": "stream",
     "text": [
      "{{::story.headline }}\n"
     ]
    }
   ],
   "source": [
    "#SkyNewsArabia\n",
    "\n",
    "url = \"https://www.skynewsarabia.com/tag?s=%D8%A3%D8%AE%D8%A8%D8%A7%D8%B1%20%D9%84%D9%8A%D8%A8%D9%8A%D8%A7&offset=84&sort=DATE\"\n",
    "headers = {\n",
    "    'User-Agent': 'Mozilla/5.0 (Windows NT 10.0; Win64; x64) AppleWebKit/537.36 (KHTML, like Gecko) Chrome/79.0.3945.88 Safari/537.36',\n",
    "}\n",
    "SkyNewsArabia=[]\n",
    "response = requests.get(url, headers=headers)\n",
    "soup= BS(response.text, 'html.parser')\n",
    "results=soup.find_all(class_=\"each-result\")\n",
    "\n",
    "for news in results:\n",
    "    print(news.find(class_=\"item-wrapper\")[\"title\"])\n",
    "    \n"
   ]
  },
  {
   "cell_type": "code",
   "execution_count": 53,
   "metadata": {},
   "outputs": [
    {
     "data": {
      "text/plain": [
       "{'Headline': 'صنع الله يترأس اجتماع «عمومية رأس لانوف».. ويشيد بدورها في النهوض بالاقتصاد',\n",
       " 'Link': 'http://alwasat.ly/news/libya/267933',\n",
       " 'Image': 'http://cdn-ar-1.alwasat.ly/uploads/articles/4BXl3yLFkfibydmOlrzO.jpg'}"
      ]
     },
     "execution_count": 53,
     "metadata": {},
     "output_type": "execute_result"
    }
   ],
   "source": [
    "data={\"AlwasatNews\":WasatNews\n",
    "     ,\"Libya24News\":Libya24News\n",
    "     ,\"AlJazeera\": AlJazeeraNews\n",
    "     ,\"Libya218\":Libya218News\n",
    "      ,\"BBCArabic\":BBCArabic\n",
    "      ,\"RussiaToday\":RTArabic\n",
    "      ,\"AlRaed\":AlRaed\n",
    "     ,\"UpdateTime\":Now}\n"
   ]
  }
 ],
 "metadata": {
  "kernelspec": {
   "display_name": "Python 3",
   "language": "python",
   "name": "python3"
  },
  "language_info": {
   "codemirror_mode": {
    "name": "ipython",
    "version": 3
   },
   "file_extension": ".py",
   "mimetype": "text/x-python",
   "name": "python",
   "nbconvert_exporter": "python",
   "pygments_lexer": "ipython3",
   "version": "3.7.3"
  }
 },
 "nbformat": 4,
 "nbformat_minor": 2
}

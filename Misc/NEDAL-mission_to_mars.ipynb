{
 "cells": [
  {
   "cell_type": "code",
   "execution_count": 1,
   "metadata": {},
   "outputs": [],
   "source": [
    "from splinter import Browser\n",
    "from bs4 import BeautifulSoup as BS\n",
    "import requests"
   ]
  },
  {
   "cell_type": "code",
   "execution_count": 2,
   "metadata": {},
   "outputs": [],
   "source": [
    "executable_path = {'executable_path': 'chromedriver.exe'}\n",
    "browser = Browser('chrome', **executable_path)"
   ]
  },
  {
   "cell_type": "code",
   "execution_count": 3,
   "metadata": {},
   "outputs": [],
   "source": [
    "url = 'https://mars.nasa.gov/news'\n",
    "browser.visit(url)\n",
    "\n",
    "#response= requests.get(url)\n",
    "#response"
   ]
  },
  {
   "cell_type": "code",
   "execution_count": 7,
   "metadata": {},
   "outputs": [],
   "source": [
    "soup = BS(browser.html,'html.parser')\n",
    "#print(soup.prettify())"
   ]
  },
  {
   "cell_type": "code",
   "execution_count": 8,
   "metadata": {},
   "outputs": [
    {
     "name": "stdout",
     "output_type": "stream",
     "text": [
      "******\n",
      "NASA's Treasure Map for Water Ice on Mars\n",
      "******\n",
      "Two Rovers to Roll on Mars Again: Curiosity and Mars 2020\n",
      "******\n",
      "NASA's Briefcase-Size MarCO Satellite Picks Up Honors\n",
      "******\n",
      "Global Storms on Mars Launch Dust Towers Into the Sky\n",
      "******\n",
      "NASA Updates Mars 2020 Mission Environmental Review\n",
      "******\n",
      "Two of a Space Kind: Apollo 12 and Mars 2020\n",
      "******\n",
      "Mars Scientists Investigate Ancient Life in Australia\n",
      "******\n",
      "NASA's Mars 2020 Will Hunt for Microscopic Fossils\n",
      "******\n",
      "With Mars Methane Mystery Unsolved, Curiosity Serves Scientists a New One: Oxygen\n",
      "******\n",
      "NASA's Mars 2020 Heads Into the Test Chamber\n",
      "******\n",
      "Screening Soon: 'The Pathfinders' Trains Lens on Mars\n",
      "******\n",
      "InSight's 'Mole' Team Peers into the Pit\n",
      "******\n",
      "Common Questions about InSight's 'Mole'\n",
      "******\n",
      "Mars 2020 Stands on Its Own Six Wheels\n",
      "******\n",
      "New Selfie Shows Curiosity, the Mars Chemist\n",
      "******\n",
      "Naming a NASA Mars Rover Can Change Your Life\n",
      "******\n",
      "Mars 2020 Unwrapped and Ready for More Testing\n",
      "******\n",
      "HiRISE Views NASA's InSight and Curiosity on Mars\n",
      "******\n",
      "NASA's Curiosity Rover Finds an Ancient Oasis on Mars\n",
      "******\n",
      "NASA's Mars 2020 Rover Tests Descent-Stage Separation\n",
      "******\n",
      "NASA's Push to Save the Mars InSight Lander's Heat Probe\n",
      "******\n",
      "NASA's InSight 'Hears' Peculiar Sounds on Mars\n",
      "******\n",
      "NASA Mars Mission Connects With Bosnian and Herzegovinian Town\n",
      "******\n",
      "Deadline Closing for Names to Fly on NASA's Next Mars Rover\n",
      "******\n",
      "NASA Wins Two Emmy Awards for Interactive Mission Coverage\n",
      "******\n",
      "NASA's Mars 2020 Comes Full Circle\n",
      "******\n",
      "NASA Invites Students to Name Mars 2020 Rover\n",
      "******\n",
      "NASA's Mars Helicopter Attached to Mars 2020 Rover \n",
      "******\n",
      "What's Mars Solar Conjunction, and Why Does It Matter?\n",
      "******\n",
      "Scientists Explore Outback as Testbed for Mars \n",
      "******\n",
      "NASA-JPL Names 'Rolling Stones Rock' on Mars\n",
      "******\n",
      "Robotic Toolkit Added to NASA's Mars 2020 Rover\n",
      "******\n",
      "Space Samples Link NASA's Apollo 11 and Mars 2020\n",
      "******\n",
      "Small Satellite Mission of the Year\n",
      "******\n",
      "NASA 'Optometrists' Verify Mars 2020 Rover's 20/20 Vision\n",
      "******\n",
      "New Finds for Mars Rover, Seven Years After Landing\n",
      "******\n",
      "MEDLI2 Installation on Mars 2020 Aeroshell Begins\n",
      "******\n",
      "NASA's Mars 2020 Rover Does Biceps Curls \n",
      "******\n",
      "Fueling of NASA's Mars 2020 Rover Power System Begins\n",
      "******\n",
      "What Does a Marsquake Look Like?\n",
      "******\n",
      "NASA Garners 7 Webby Award Nominations\n",
      "******\n",
      "NASA's Opportunity Rover Mission on Mars Comes to End\n",
      "******\n",
      "NASA's InSight Places First Instrument on Mars\n",
      "******\n",
      "NASA Invites Students to Name Mars 2020 Rover\n",
      "******\n",
      "NASA's Curiosity Mars Rover Finds a Clay Cache\n",
      "******\n",
      "Why This Martian Full Moon Looks Like Candy\n",
      "******\n",
      "NASA Garners 7 Webby Award Nominations\n",
      "******\n",
      "NASA's Opportunity Rover Mission on Mars Comes to End\n",
      "******\n",
      "NASA's InSight Places First Instrument on Mars\n",
      "******\n",
      "NASA Invites Students to Name Mars 2020 Rover\n",
      "******\n",
      "NASA's Curiosity Mars Rover Finds a Clay Cache\n",
      "******\n",
      "Why This Martian Full Moon Looks Like Candy\n"
     ]
    }
   ],
   "source": [
    "results=soup.find_all(class_=\"slide\")\n",
    "\n",
    "headlines=[x.find('div', class_= \"content_title\").text.strip(\"\\n\") for x in results]\n",
    "description=[x.find('div', class_= \"rollover_description_inner\").text.strip(\"\\n\") for x in results]\n",
    "headlines\n",
    "\n",
    "for x in headlines:\n",
    "    print (\"******\")\n",
    "    print(x)\n",
    "\n"
   ]
  },
  {
   "cell_type": "code",
   "execution_count": 28,
   "metadata": {},
   "outputs": [
    {
     "name": "stdout",
     "output_type": "stream",
     "text": [
      "6\n",
      "NASA Invites Students to Name Mars 2020 Rover\n",
      "NASA's Curiosity Mars Rover Finds a Clay Cache\n",
      "Why This Martian Full Moon Looks Like Candy\n",
      "NASA Garners 7 Webby Award Nominations\n",
      "NASA's Opportunity Rover Mission on Mars Comes to End\n",
      "NASA's InSight Places First Instrument on Mars\n"
     ]
    }
   ],
   "source": [
    "articles = soup.find_all(\"div\", class_='content_title')\n",
    "# Check the length of the article titles scraped\n",
    "print(len(articles))\n",
    "# Print the article titles \n",
    "for a in articles:\n",
    "    print(a.text.strip())"
   ]
  },
  {
   "cell_type": "code",
   "execution_count": 29,
   "metadata": {},
   "outputs": [
    {
     "data": {
      "text/plain": [
       "[<article>\n",
       " <header id=\"page_header\">\n",
       " </header>\n",
       " <div class=\"react_grid_list grid_list_container\" data-react-class=\"GridListPage\" data-react-props='{\"left_column\":false,\"class_name\":\"\",\"default_view\":\"list_view\",\"model\":\"news_items\",\"view_toggle\":false,\"search\":\"true\",\"list_item\":\"News\",\"title\":\"News\",\"categories\":[\"19,165,184,204\"],\"order\":\"publish_date desc,created_at desc\",\"no_items_text\":\"There are no items matching these criteria.\",\"site_title\":\"NASA’s Mars Exploration Program \",\"short_title\":\"Mars\",\"site_share_image\":\"/system/site_config_values/meta_share_images/1_142497main_PIA03154-200.jpg\",\"per_page\":null,\"filters\":\"[ [ \\\"date\\\", [ [ \\\"2019\\\", \\\"2019\\\" ], [ \\\"2018\\\", \\\"2018\\\" ], [ \\\"2017\\\", \\\"2017\\\" ], [ \\\"2016\\\", \\\"2016\\\" ], [ \\\"2015\\\", \\\"2015\\\" ], [ \\\"2014\\\", \\\"2014\\\" ], [ \\\"2013\\\", \\\"2013\\\" ], [ \\\"2012\\\", \\\"2012\\\" ], [ \\\"2011\\\", \\\"2011\\\" ], [ \\\"2010\\\", \\\"2010\\\" ], [ \\\"2009\\\", \\\"2009\\\" ], [ \\\"2008\\\", \\\"2008\\\" ], [ \\\"2007\\\", \\\"2007\\\" ], [ \\\"2006\\\", \\\"2006\\\" ], [ \\\"2005\\\", \\\"2005\\\" ], [ \\\"2004\\\", \\\"2004\\\" ], [ \\\"2003\\\", \\\"2003\\\" ], [ \\\"2002\\\", \\\"2002\\\" ], [ \\\"2001\\\", \\\"2001\\\" ], [ \\\"2000\\\", \\\"2000\\\" ] ], [ \\\"Latest\\\", \\\"\\\" ], false ], [ \\\"categories\\\", [ [ \\\"Feature Stories\\\", 165 ], [ \\\"Press Releases\\\", 19 ], [ \\\"Spotlights\\\", 184 ], [ \\\"Status Reports\\\", 204 ] ], [ \\\"All Categories\\\", \\\"\\\" ], false ] ]\",\"conditions\":null,\"scope_in_title\":true,\"options\":{\"blank_scope\":\"Latest\"},\"results_in_title\":false}'></div>\n",
       " </article>]"
      ]
     },
     "execution_count": 29,
     "metadata": {},
     "output_type": "execute_result"
    }
   ],
   "source": [
    "results=soup.find_all('article')\n",
    "len(results)\n",
    "\n",
    "results"
   ]
  }
 ],
 "metadata": {
  "kernelspec": {
   "display_name": "Python 3",
   "language": "python",
   "name": "python3"
  },
  "language_info": {
   "codemirror_mode": {
    "name": "ipython",
    "version": 3
   },
   "file_extension": ".py",
   "mimetype": "text/x-python",
   "name": "python",
   "nbconvert_exporter": "python",
   "pygments_lexer": "ipython3",
   "version": "3.7.3"
  },
  "varInspector": {
   "cols": {
    "lenName": 16,
    "lenType": 16,
    "lenVar": 40
   },
   "kernels_config": {
    "python": {
     "delete_cmd_postfix": "",
     "delete_cmd_prefix": "del ",
     "library": "var_list.py",
     "varRefreshCmd": "print(var_dic_list())"
    },
    "r": {
     "delete_cmd_postfix": ") ",
     "delete_cmd_prefix": "rm(",
     "library": "var_list.r",
     "varRefreshCmd": "cat(var_dic_list()) "
    }
   },
   "types_to_exclude": [
    "module",
    "function",
    "builtin_function_or_method",
    "instance",
    "_Feature"
   ],
   "window_display": false
  }
 },
 "nbformat": 4,
 "nbformat_minor": 2
}

{
 "cells": [
  {
   "cell_type": "code",
   "execution_count": 4,
   "metadata": {},
   "outputs": [
    {
     "ename": "ModuleNotFoundError",
     "evalue": "No module named 'gbdxtools'",
     "output_type": "error",
     "traceback": [
      "\u001b[1;31m---------------------------------------------------------------------------\u001b[0m",
      "\u001b[1;31mModuleNotFoundError\u001b[0m                       Traceback (most recent call last)",
      "\u001b[1;32m<ipython-input-4-8a1efa201dfc>\u001b[0m in \u001b[0;36m<module>\u001b[1;34m\u001b[0m\n\u001b[1;32m----> 1\u001b[1;33m \u001b[1;32mfrom\u001b[0m \u001b[0mgbdxtools\u001b[0m \u001b[1;32mimport\u001b[0m \u001b[0mCatalogImage\u001b[0m\u001b[1;33m\u001b[0m\u001b[1;33m\u001b[0m\u001b[0m\n\u001b[0m\u001b[0;32m      2\u001b[0m \u001b[0mimage\u001b[0m \u001b[1;33m=\u001b[0m \u001b[0mCatalogImage\u001b[0m\u001b[1;33m(\u001b[0m\u001b[1;34m'103001007B9DD400'\u001b[0m\u001b[1;33m,\u001b[0m \u001b[0mbbox\u001b[0m\u001b[1;33m=\u001b[0m\u001b[1;33m[\u001b[0m\u001b[1;33m-\u001b[0m\u001b[1;36m105.06\u001b[0m\u001b[1;33m,\u001b[0m \u001b[1;36m39.67\u001b[0m\u001b[1;33m,\u001b[0m \u001b[1;33m-\u001b[0m\u001b[1;36m105.04\u001b[0m\u001b[1;33m,\u001b[0m \u001b[1;36m39.68\u001b[0m\u001b[1;33m]\u001b[0m\u001b[1;33m)\u001b[0m\u001b[1;33m\u001b[0m\u001b[1;33m\u001b[0m\u001b[0m\n\u001b[0;32m      3\u001b[0m \u001b[0mimg\u001b[0m\u001b[1;33m.\u001b[0m\u001b[0mplot\u001b[0m\u001b[1;33m(\u001b[0m\u001b[1;33m)\u001b[0m\u001b[1;33m\u001b[0m\u001b[1;33m\u001b[0m\u001b[0m\n",
      "\u001b[1;31mModuleNotFoundError\u001b[0m: No module named 'gbdxtools'"
     ]
    }
   ],
   "source": [
    "from gbdxtools import CatalogImage\n",
    "image = CatalogImage('103001007B9DD400', bbox=[-105.06, 39.67, -105.04, 39.68])\n",
    "img.plot()"
   ]
  },
  {
   "cell_type": "code",
   "execution_count": 5,
   "metadata": {},
   "outputs": [
    {
     "name": "stdout",
     "output_type": "stream",
     "text": [
      "Collecting gbdxtools\n",
      "  Using cached https://files.pythonhosted.org/packages/10/e4/4920ef4ea22dc190e8a40b4c63c7b39d3bbb0730e52a683673bfd2213642/gbdxtools-0.16.7.tar.gz\n",
      "Requirement already satisfied: six>=1.10.0 in c:\\users\\nsweh\\anaconda3\\lib\\site-packages (from gbdxtools) (1.12.0)\n",
      "Requirement already satisfied: future>=0.15.2 in c:\\users\\nsweh\\anaconda3\\lib\\site-packages (from gbdxtools) (0.17.1)\n",
      "Collecting requests<2.22,>=2.12.1 (from gbdxtools)\n",
      "  Using cached https://files.pythonhosted.org/packages/7d/e3/20f3d364d6c8e5d2353c72a67778eb189176f08e873c9900e10c0287b84b/requests-2.21.0-py2.py3-none-any.whl\n",
      "Collecting boto3 (from gbdxtools)\n",
      "  Using cached https://files.pythonhosted.org/packages/f9/01/1c749dc1bca8dda969f5fe0ba16fa6d24c6bd96572d118f790773c54a636/boto3-1.10.45-py2.py3-none-any.whl\n",
      "Collecting gbdx-auth>=0.2.6 (from gbdxtools)\n",
      "  Using cached https://files.pythonhosted.org/packages/8b/cc/467026eca837431272b18e4acf2cf47765aa243cb6c0ecafcc2ae7480fb3/gbdx-auth-0.4.0.tar.gz\n",
      "Requirement already satisfied: pytest in c:\\users\\nsweh\\anaconda3\\lib\\site-packages (from gbdxtools) (5.0.1)\n",
      "Collecting pytest-runner (from gbdxtools)\n",
      "  Using cached https://files.pythonhosted.org/packages/16/45/81b5262c0efc08882bdf183b788e6d28e3d684863990996d8b60967d48da/pytest_runner-5.2-py2.py3-none-any.whl\n",
      "Collecting vcrpy (from gbdxtools)\n",
      "  Using cached https://files.pythonhosted.org/packages/ae/52/a6248969b77176e4264161e809f07403b6135d7114c8a381fc4db9e079c8/vcrpy-4.0.2-py2.py3-none-any.whl\n",
      "Requirement already satisfied: mock in c:\\users\\nsweh\\anaconda3\\lib\\site-packages (from gbdxtools) (3.0.5)\n",
      "Collecting bumpversion (from gbdxtools)\n",
      "  Using cached https://files.pythonhosted.org/packages/ad/34/49c914829066558ebd405a56647d3ee26856282b8b8c4cd2c0c8de40ff8e/bumpversion-0.5.3-py2.py3-none-any.whl\n",
      "Collecting shapely (from gbdxtools)\n",
      "  Using cached https://files.pythonhosted.org/packages/a2/fb/7a7af9ef7a35d16fa23b127abee272cfc483ca89029b73e92e93cdf36e6b/Shapely-1.6.4.post2.tar.gz\n"
     ]
    },
    {
     "name": "stderr",
     "output_type": "stream",
     "text": [
      "    ERROR: Complete output from command python setup.py egg_info:\n",
      "    ERROR: Traceback (most recent call last):\n",
      "      File \"<string>\", line 1, in <module>\n",
      "      File \"C:\\Users\\nsweh\\AppData\\Local\\Temp\\pip-install-erwjloja\\shapely\\setup.py\", line 80, in <module>\n",
      "        from shapely._buildcfg import geos_version_string, geos_version, \\\n",
      "      File \"C:\\Users\\nsweh\\AppData\\Local\\Temp\\pip-install-erwjloja\\shapely\\shapely\\_buildcfg.py\", line 200, in <module>\n",
      "        lgeos = CDLL(\"geos_c.dll\")\n",
      "      File \"C:\\Users\\nsweh\\Anaconda3\\lib\\ctypes\\__init__.py\", line 356, in __init__\n",
      "        self._handle = _dlopen(self._name, mode)\n",
      "    OSError: [WinError 126] The specified module could not be found\n",
      "    ----------------------------------------\n",
      "ERROR: Command \"python setup.py egg_info\" failed with error code 1 in C:\\Users\\nsweh\\AppData\\Local\\Temp\\pip-install-erwjloja\\shapely\\\n"
     ]
    }
   ],
   "source": [
    "!pip install gbdxtools\n",
    "\n"
   ]
  }
 ],
 "metadata": {
  "kernelspec": {
   "display_name": "Python 3",
   "language": "python",
   "name": "python3"
  },
  "language_info": {
   "codemirror_mode": {
    "name": "ipython",
    "version": 3
   },
   "file_extension": ".py",
   "mimetype": "text/x-python",
   "name": "python",
   "nbconvert_exporter": "python",
   "pygments_lexer": "ipython3",
   "version": "3.7.3"
  }
 },
 "nbformat": 4,
 "nbformat_minor": 2
}

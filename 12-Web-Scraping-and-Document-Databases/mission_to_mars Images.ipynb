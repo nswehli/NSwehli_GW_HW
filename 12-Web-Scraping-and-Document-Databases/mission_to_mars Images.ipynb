{
 "cells": [
  {
   "source": [
    "from splinter import Browser\n",
    "from bs4 import BeautifulSoup as BS\n",
    "import requests\n",
    "from splinter import Browser\n",
    "import re\n",
    "\n",
    "\n",
    "\n",
    "\n",
    ""
   ],
   "cell_type": "code",
   "outputs": [],
   "metadata": {},
   "execution_count": 38
  },
  {
   "source": [
    "executable_path = {'executable_path': 'chromedriver.exe'}\n",
    "browser = Browser('chrome', **executable_path, headless=False)\n",
    "\n",
    "# Scraping the latest featured Image fron Nasa Mars website\n",
    "url = \"https://www.jpl.nasa.gov/spaceimages/?search=&category=Mars\"\n",
    "browser.visit(url)\n",
    "browser.click_link_by_partial_text('FULL IMAGE')\n",
    "html = browser.html\n",
    "soup = BS(html, 'html.parser')\n",
    ""
   ],
   "cell_type": "code",
   "outputs": [],
   "metadata": {},
   "execution_count": 32
  },
  {
   "source": [
    "\n",
    "featured_image_url = browser.find_by_css('.fancybox-image').first['src']\n",
    "featured_image_url"
   ],
   "cell_type": "code",
   "outputs": [
    {
     "output_type": "execute_result",
     "data": {
      "text/plain": "'https://www.jpl.nasa.gov/spaceimages/images/mediumsize/PIA17841_ip.jpg'"
     },
     "metadata": {},
     "execution_count": 5
    }
   ],
   "metadata": {},
   "execution_count": 5
  },
  {
   "source": [
    "url= \"https://twitter.com/marswxreport?lang=en\"\n",
    "\n",
    "executable_path = {'executable_path': 'chromedriver.exe'}\n",
    "browser = Browser('chrome', **executable_path, headless=False)\n",
    "\n",
    "browser.visit(url)\n",
    "html = browser.html\n",
    "soup = BS(html, 'html.parser')\n",
    "LatestTweet=soup.find(class_=\"js-tweet-text-container\").text.strip()"
   ],
   "cell_type": "code",
   "outputs": [],
   "metadata": {},
   "execution_count": 64
  },
  {
   "source": [
    "print(LatestTweet)"
   ],
   "cell_type": "code",
   "outputs": [
    {
     "output_type": "stream",
     "name": "stdout",
     "text": "The Mars2020 team at @NASAJPL is clearly working too hard https://www.jpl.nasa.gov/news/news.php?feature=7418 …pic.twitter.com/LYKYNu6lPV\n"
    }
   ],
   "metadata": {},
   "execution_count": 65
  }
 ],
 "metadata": {
  "kernelspec": {
   "display_name": "Python 3",
   "language": "python",
   "name": "python3"
  },
  "language_info": {
   "codemirror_mode": {
    "name": "ipython",
    "version": 3
   },
   "file_extension": ".py",
   "mimetype": "text/x-python",
   "name": "python",
   "nbconvert_exporter": "python",
   "pygments_lexer": "ipython3",
   "version": "3.7.3"
  },
  "varInspector": {
   "cols": {
    "lenName": 16,
    "lenType": 16,
    "lenVar": 40
   },
   "kernels_config": {
    "python": {
     "delete_cmd_postfix": "",
     "delete_cmd_prefix": "del ",
     "library": "var_list.py",
     "varRefreshCmd": "print(var_dic_list())"
    },
    "r": {
     "delete_cmd_postfix": ") ",
     "delete_cmd_prefix": "rm(",
     "library": "var_list.r",
     "varRefreshCmd": "cat(var_dic_list()) "
    }
   },
   "types_to_exclude": [
    "module",
    "function",
    "builtin_function_or_method",
    "instance",
    "_Feature"
   ],
   "window_display": false
  }
 },
 "nbformat": 4,
 "nbformat_minor": 2
}
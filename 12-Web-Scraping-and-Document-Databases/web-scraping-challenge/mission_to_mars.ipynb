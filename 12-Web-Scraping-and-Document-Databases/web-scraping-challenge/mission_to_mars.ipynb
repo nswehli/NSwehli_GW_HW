{
 "cells": [
  {
   "cell_type": "code",
   "execution_count": 8,
   "metadata": {},
   "outputs": [],
   "source": [
    "from splinter import Browser\n",
    "from bs4 import BeautifulSoup as BS\n",
    "import requests\n",
    "import pandas as pd"
   ]
  },
  {
   "cell_type": "code",
   "execution_count": 9,
   "metadata": {},
   "outputs": [],
   "source": [
    "executable_path = {'executable_path': 'chromedriver.exe'}\n",
    "browser = Browser('chrome', **executable_path, headless=False)\n",
    "\n",
    "\n"
   ]
  },
  {
   "cell_type": "code",
   "execution_count": 10,
   "metadata": {},
   "outputs": [
    {
     "name": "stdout",
     "output_type": "stream",
     "text": "NASA's Treasure Map for Water Ice on Mars\nA new study identifies frozen water just below the Martian surface, where astronauts could easily dig it up.\n"
    },
    {
     "data": {
      "text/plain": "{'Headline': \"NASA's Treasure Map for Water Ice on Mars\",\n 'Description': 'A new study identifies frozen water just below the Martian surface, where astronauts could easily dig it up.'}"
     },
     "execution_count": 10,
     "metadata": {},
     "output_type": "execute_result"
    }
   ],
   "source": [
    "# Scraping the latest headline fron Nasa Mars website\n",
    "\n",
    "url = 'https://mars.nasa.gov/news'\n",
    "browser.visit(url)\n",
    "html = browser.html\n",
    "\n",
    "soup = BS(html, 'html.parser')\n",
    "LatestResult=soup.find(class_=\"slide\")\n",
    "\n",
    "headlines=[x.find('div', class_= \"content_title\").text.strip() for x in LatestResult]\n",
    "description=[x.find('div', class_= \"rollover_description_inner\").text.strip() for x in LatestResult]\n",
    "\n",
    "\n",
    "for x in headlines:\n",
    "    headline=x\n",
    "    print(headline)\n",
    "\n",
    "for x in description:\n",
    "    description=x\n",
    "    print(description)\n",
    "\n",
    "News={\"Headline\":headline, \"Description\":description}\n",
    "\n",
    "\n",
    "News"
   ]
  },
  {
   "cell_type": "code",
   "execution_count": 11,
   "metadata": {},
   "outputs": [
    {
     "data": {
      "text/plain": "'https://www.jpl.nasa.gov/spaceimages/images/mediumsize/PIA14762_ip.jpg'"
     },
     "execution_count": 11,
     "metadata": {},
     "output_type": "execute_result"
    }
   ],
   "source": [
    "#JPL Mars Space Images - Featured Image\n",
    "\n",
    "url = \"https://www.jpl.nasa.gov/spaceimages/?search=&category=Mars\"\n",
    "browser.visit(url)\n",
    "browser.find_by_id('full_image').click()\n",
    "featured_image_url = browser.find_by_css('.fancybox-image').first['src']\n",
    "featured_image_url"
   ]
  },
  {
   "cell_type": "code",
   "execution_count": 12,
   "metadata": {},
   "outputs": [
    {
     "data": {
      "text/plain": "'InSight sol 375 (2019-12-16) low -97.5ºC (-143.6ºF) high -19.8ºC (-3.6ºF)\\nwinds from the SW at 5.6 m/s (12.5 mph) gusting to 22.1 m/s (49.4 mph)\\npressure at 6.50 hPapic.twitter.com/XDE4ZXpe6N'"
     },
     "execution_count": 12,
     "metadata": {},
     "output_type": "execute_result"
    }
   ],
   "source": [
    "# Obtaining the latest tweet\n",
    "\n",
    "url= \"https://twitter.com/marswxreport?lang=en\"\n",
    "browser.visit(url)\n",
    "html = browser.html\n",
    "soup = BS(html, 'html.parser')\n",
    "LatestTweet=soup.find(class_=\"js-tweet-text-container\").text.strip()\n",
    "\n",
    "LatestTweet\n"
   ]
  },
  {
   "cell_type": "code",
   "execution_count": 13,
   "metadata": {},
   "outputs": [],
   "source": [
    "# Mars Facts\n",
    "\n",
    "url = 'https://space-facts.com/mars/'\n",
    "tables = pd.read_html(url)\n",
    "MARS_PLANET_PROFILE=tables[0].copy()\n",
    "MARS_PLANET_PROFILE.to_html('MarsFact.html', header=None,index=False)\n",
    "\n",
    "\n",
    "\n"
   ]
  },
  {
   "cell_type": "code",
   "execution_count": 14,
   "metadata": {},
   "outputs": [
    {
     "name": "stdout",
     "output_type": "stream",
     "text": "Cerberus Hemisphere Enhanced\nhttps://astrogeology.usgs.gov/cache/images/cfa62af2557222a02478f1fcd781d445_cerberus_enhanced.tif_full.jpg\nSchiaparelli Hemisphere Enhanced\nhttps://astrogeology.usgs.gov/cache/images/3cdd1cbf5e0813bba925c9030d13b62e_schiaparelli_enhanced.tif_full.jpg\nSyrtis Major Hemisphere Enhanced\nhttps://astrogeology.usgs.gov/cache/images/ae209b4e408bb6c3e67b6af38168cf28_syrtis_major_enhanced.tif_full.jpg\nValles Marineris Hemisphere Enhanced\nhttps://astrogeology.usgs.gov/cache/images/7cf2da4bf549ed01c17f206327be4db7_valles_marineris_enhanced.tif_full.jpg\n"
    }
   ],
   "source": [
    "# Mars Hemispheres\n",
    "\n",
    "url = \"https://astrogeology.usgs.gov/search/results?q=hemisphere+enhanced&k1=target&v1=Mars\"\n",
    "browser.visit(url)\n",
    "html = browser.html\n",
    "soup = BS(html, 'html.parser')\n",
    "results=soup.find_all('div', class_=\"item\")\n",
    "hemisphere_image_urls = []\n",
    "\n",
    "for x in results:\n",
    "    link=x.a[\"href\"]\n",
    "    url=(f\"https://astrogeology.usgs.gov{link}\")\n",
    "    browser.visit(url)\n",
    "    html = browser.html\n",
    "    soup = BS(html, 'html.parser')\n",
    "    links=soup.find('img', class_=\"wide-image\")[\"src\"]\n",
    "    Title=soup.find('h2')\n",
    "    title=(Title.text)\n",
    "    print(title)\n",
    "    print(f\"https://astrogeology.usgs.gov{links}\")\n",
    "    case = {\"title\": title, 'image_url': (f\"https://astrogeology.usgs.gov{links}\")}\n",
    "    hemisphere_image_urls.append(case)"
   ]
  },
  {
   "cell_type": "code",
   "execution_count": 20,
   "metadata": {},
   "outputs": [
    {
     "name": "stdout",
     "output_type": "stream",
     "text": "{'Latest News': {'Headline': \"NASA's Treasure Map for Water Ice on Mars\", 'Description': 'A new study identifies frozen water just below the Martian surface, where astronauts could easily dig it up.'}, 'Featured Image': 'https://www.jpl.nasa.gov/spaceimages/images/mediumsize/PIA14762_ip.jpg', 'Weather': 'InSight sol 375 (2019-12-16) low -97.5ºC (-143.6ºF) high -19.8ºC (-3.6ºF)\\nwinds from the SW at 5.6 m/s (12.5 mph) gusting to 22.1 m/s (49.4 mph)\\npressure at 6.50 hPapic.twitter.com/XDE4ZXpe6N', 'Hemisphere Images': [{'title': 'Cerberus Hemisphere Enhanced', 'image_url': 'https://astrogeology.usgs.gov/cache/images/cfa62af2557222a02478f1fcd781d445_cerberus_enhanced.tif_full.jpg'}, {'title': 'Schiaparelli Hemisphere Enhanced', 'image_url': 'https://astrogeology.usgs.gov/cache/images/3cdd1cbf5e0813bba925c9030d13b62e_schiaparelli_enhanced.tif_full.jpg'}, {'title': 'Syrtis Major Hemisphere Enhanced', 'image_url': 'https://astrogeology.usgs.gov/cache/images/ae209b4e408bb6c3e67b6af38168cf28_syrtis_major_enhanced.tif_full.jpg'}, {'title': 'Valles Marineris Hemisphere Enhanced', 'image_url': 'https://astrogeology.usgs.gov/cache/images/7cf2da4bf549ed01c17f206327be4db7_valles_marineris_enhanced.tif_full.jpg'}]}\n"
    }
   ],
   "source": [
    "#one Python dictionary containing all of the scraped data\n",
    "data={\"Latest News\": News\n",
    ",\"Featured Image\": featured_image_url\n",
    ",\"Weather\": LatestTweet\n",
    ",\"Hemisphere Images\": hemisphere_image_urls\n",
    "}\n",
    "\n",
    "print (data)\n",
    "\n",
    "\n",
    "\n",
    "\n"
   ]
  }
 ],
 "metadata": {
  "kernelspec": {
   "display_name": "Python 3",
   "language": "python",
   "name": "python3"
  },
  "language_info": {
   "codemirror_mode": {
    "name": "ipython",
    "version": 3
   },
   "file_extension": ".py",
   "mimetype": "text/x-python",
   "name": "python",
   "nbconvert_exporter": "python",
   "pygments_lexer": "ipython3",
   "version": "3.7.3"
  },
  "varInspector": {
   "cols": {
    "lenName": 16,
    "lenType": 16,
    "lenVar": 40
   },
   "kernels_config": {
    "python": {
     "delete_cmd_postfix": "",
     "delete_cmd_prefix": "del ",
     "library": "var_list.py",
     "varRefreshCmd": "print(var_dic_list())"
    },
    "r": {
     "delete_cmd_postfix": ") ",
     "delete_cmd_prefix": "rm(",
     "library": "var_list.r",
     "varRefreshCmd": "cat(var_dic_list()) "
    }
   },
   "types_to_exclude": [
    "module",
    "function",
    "builtin_function_or_method",
    "instance",
    "_Feature"
   ],
   "window_display": false
  }
 },
 "nbformat": 4,
 "nbformat_minor": 2
}
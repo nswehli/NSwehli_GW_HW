{
 "cells": [
  {
   "cell_type": "code",
   "execution_count": 1,
   "metadata": {},
   "outputs": [],
   "source": [
    "%matplotlib inline\n",
    "from matplotlib import style\n",
    "style.use('fivethirtyeight')\n",
    "import matplotlib.pyplot as plt\n",
    "from flask import Flask, jsonify\n",
    "import numpy as np\n",
    "import pandas as pd\n",
    "import datetime as dt\n",
    "from datetime import date\n",
    "from datetime import datetime"
   ]
  },
  {
   "cell_type": "markdown",
   "metadata": {},
   "source": [
    "# Reflect Tables into SQLAlchemy ORM"
   ]
  },
  {
   "cell_type": "code",
   "execution_count": 2,
   "metadata": {},
   "outputs": [],
   "source": [
    "# Python SQL toolkit and Object Relational Mapper\n",
    "import sqlalchemy\n",
    "from sqlalchemy.ext.automap import automap_base\n",
    "from sqlalchemy.orm import Session\n",
    "from sqlalchemy import create_engine, func, inspect"
   ]
  },
  {
   "cell_type": "code",
   "execution_count": 3,
   "metadata": {},
   "outputs": [],
   "source": [
    "engine = create_engine(\"sqlite:///Resources/hawaii.sqlite\")"
   ]
  },
  {
   "cell_type": "code",
   "execution_count": 4,
   "metadata": {},
   "outputs": [],
   "source": [
    "# reflect an existing database into a new model\n",
    "Base = automap_base()\n",
    "# reflect the tables\n",
    "Base.prepare(engine, reflect=True)"
   ]
  },
  {
   "cell_type": "code",
   "execution_count": 5,
   "metadata": {},
   "outputs": [
    {
     "data": {
      "text/plain": [
       "['measurement', 'station']"
      ]
     },
     "execution_count": 5,
     "metadata": {},
     "output_type": "execute_result"
    }
   ],
   "source": [
    "# We can view all of the classes that automap found\n",
    "Base.classes.keys()"
   ]
  },
  {
   "cell_type": "code",
   "execution_count": 6,
   "metadata": {},
   "outputs": [
    {
     "name": "stdout",
     "output_type": "stream",
     "text": [
      "id\n",
      "station\n",
      "date\n",
      "prcp\n",
      "tobs\n"
     ]
    }
   ],
   "source": [
    "# Save references to each table\n",
    "Measurement = Base.classes.measurement\n",
    "Station = Base.classes.station\n",
    "\n",
    "for x in Measurement.__table__.columns.keys():\n",
    "    print (x)\n"
   ]
  },
  {
   "cell_type": "code",
   "execution_count": 7,
   "metadata": {},
   "outputs": [],
   "source": [
    "# Create our session (link) from Python to the DB\n",
    "session = Session(engine)"
   ]
  },
  {
   "cell_type": "markdown",
   "metadata": {},
   "source": [
    "# Exploratory Climate Analysis"
   ]
  },
  {
   "cell_type": "code",
   "execution_count": 8,
   "metadata": {},
   "outputs": [
    {
     "data": {
      "text/plain": [
       "datetime.datetime(2016, 8, 23, 0, 0)"
      ]
     },
     "execution_count": 8,
     "metadata": {},
     "output_type": "execute_result"
    }
   ],
   "source": [
    "# Design a query to retrieve the last 12 months of precipitation data and plot the results\n",
    "# Latest Date\n",
    "#Query to get the date of last result\n",
    "LatestDate=session.query(Measurement.date).order_by(Measurement.date.desc()).first()\n",
    "\n",
    "\n",
    "#coversion of result to DATETIME\n",
    "LatestDate=datetime.strptime(LatestDate[0], '%Y-%m-%d')\n",
    "\n",
    "#Date 12 months ago\n",
    "yr_ago = LatestDate - dt.timedelta(days=365)\n",
    "yr_ago"
   ]
  },
  {
   "cell_type": "code",
   "execution_count": 9,
   "metadata": {},
   "outputs": [
    {
     "data": {
      "text/plain": [
       "[(1, 'USC00519397', 'WAIKIKI 717.2, HI US', 21.2716, -157.8168, 3.0),\n",
       " (2, 'USC00513117', 'KANEOHE 838.1, HI US', 21.4234, -157.8015, 14.6),\n",
       " (3,\n",
       "  'USC00514830',\n",
       "  'KUALOA RANCH HEADQUARTERS 886.9, HI US',\n",
       "  21.5213,\n",
       "  -157.8374,\n",
       "  7.0),\n",
       " (4, 'USC00517948', 'PEARL CITY, HI US', 21.3934, -157.9751, 11.9),\n",
       " (5, 'USC00518838', 'UPPER WAHIAWA 874.3, HI US', 21.4992, -158.0111, 306.6),\n",
       " (6,\n",
       "  'USC00519523',\n",
       "  'WAIMANALO EXPERIMENTAL FARM, HI US',\n",
       "  21.33556,\n",
       "  -157.71139,\n",
       "  19.5),\n",
       " (7,\n",
       "  'USC00519281',\n",
       "  'WAIHEE 837.5, HI US',\n",
       "  21.45167,\n",
       "  -157.84888999999998,\n",
       "  32.9),\n",
       " (8,\n",
       "  'USC00511918',\n",
       "  'HONOLULU OBSERVATORY 702.2, HI US',\n",
       "  21.3152,\n",
       "  -157.9992,\n",
       "  0.9),\n",
       " (9, 'USC00516128', 'MANOA LYON ARBO 785.2, HI US', 21.3331, -157.8025, 152.4)]"
      ]
     },
     "execution_count": 9,
     "metadata": {},
     "output_type": "execute_result"
    }
   ],
   "source": [
    "session = Session(engine)\n",
    "results = session.query(Station.id\n",
    "                    , Station.station\n",
    "                    , Station.name\n",
    "                    , Station.latitude\n",
    "                    ,Station.longitude\n",
    "                    ,Station.elevation\n",
    "                    ).all()\n",
    "session.close()\n",
    "\n",
    "results"
   ]
  },
  {
   "cell_type": "code",
   "execution_count": 10,
   "metadata": {},
   "outputs": [
    {
     "data": {
      "text/plain": [
       "<matplotlib.axes._subplots.AxesSubplot at 0x29a6ef427f0>"
      ]
     },
     "execution_count": 10,
     "metadata": {},
     "output_type": "execute_result"
    },
    {
     "data": {
      "image/png": "[encoded data removed]",
      "text/plain": [
       "<Figure size 432x288 with 1 Axes>"
      ]
     },
     "metadata": {
      "needs_background": "light"
     },
     "output_type": "display_data"
    }
   ],
   "source": [
    "# Calculate the date 1 year ago from the last data point in the database\n",
    "\n",
    "# Perform a query to retrieve the data and precipitation scores\n",
    "\n",
    "# Save the query results as a Pandas DataFrame and set the index to the date column\n",
    "\n",
    "# Sort the dataframe by date\n",
    "\n",
    "# Use Pandas Plotting with Matplotlib to plot the data\n",
    "results = session.query(Measurement.date\n",
    "                        , Measurement.id\n",
    "                        , Measurement.station\n",
    "                        , Measurement.prcp\n",
    "                        ,Measurement.tobs\n",
    "                       ).filter(Measurement.date >= yr_ago).all()\n",
    "Measurementdf=pd.DataFrame(results)\n",
    "Measurementdf[\"date\"]= pd.to_datetime(Measurementdf[\"date\"])\n",
    "Measurementdf=Measurementdf.set_index('date')\n",
    "Measurementdf[\"prcp\"].plot(title =\"Percipitation\")"
   ]
  },
  {
   "cell_type": "code",
   "execution_count": 11,
   "metadata": {},
   "outputs": [
    {
     "data": {
      "text/html": [
       "<div>\n",
       "<style scoped>\n",
       "    .dataframe tbody tr th:only-of-type {\n",
       "        vertical-align: middle;\n",
       "    }\n",
       "\n",
       "    .dataframe tbody tr th {\n",
       "        vertical-align: top;\n",
       "    }\n",
       "\n",
       "    .dataframe thead th {\n",
       "        text-align: right;\n",
       "    }\n",
       "</style>\n",
       "<table border=\"1\" class=\"dataframe\">\n",
       "  <thead>\n",
       "    <tr style=\"text-align: right;\">\n",
       "      <th></th>\n",
       "      <th>prcp</th>\n",
       "    </tr>\n",
       "  </thead>\n",
       "  <tbody>\n",
       "    <tr>\n",
       "      <th>count</th>\n",
       "      <td>2015.000000</td>\n",
       "    </tr>\n",
       "    <tr>\n",
       "      <th>mean</th>\n",
       "      <td>0.176462</td>\n",
       "    </tr>\n",
       "    <tr>\n",
       "      <th>std</th>\n",
       "      <td>0.460288</td>\n",
       "    </tr>\n",
       "    <tr>\n",
       "      <th>min</th>\n",
       "      <td>0.000000</td>\n",
       "    </tr>\n",
       "    <tr>\n",
       "      <th>25%</th>\n",
       "      <td>0.000000</td>\n",
       "    </tr>\n",
       "    <tr>\n",
       "      <th>50%</th>\n",
       "      <td>0.020000</td>\n",
       "    </tr>\n",
       "    <tr>\n",
       "      <th>75%</th>\n",
       "      <td>0.130000</td>\n",
       "    </tr>\n",
       "    <tr>\n",
       "      <th>max</th>\n",
       "      <td>6.700000</td>\n",
       "    </tr>\n",
       "  </tbody>\n",
       "</table>\n",
       "</div>"
      ],
      "text/plain": [
       "              prcp\n",
       "count  2015.000000\n",
       "mean      0.176462\n",
       "std       0.460288\n",
       "min       0.000000\n",
       "25%       0.000000\n",
       "50%       0.020000\n",
       "75%       0.130000\n",
       "max       6.700000"
      ]
     },
     "execution_count": 11,
     "metadata": {},
     "output_type": "execute_result"
    }
   ],
   "source": [
    "# Use Pandas to calcualte the summary statistics for the precipitation data\n",
    "statSummary=pd.DataFrame(Measurementdf[\"prcp\"].describe())\n",
    "statSummary"
   ]
  },
  {
   "cell_type": "code",
   "execution_count": 12,
   "metadata": {},
   "outputs": [
    {
     "name": "stdout",
     "output_type": "stream",
     "text": [
      " There are 9 stations in the dataset.\n"
     ]
    }
   ],
   "source": [
    "# Design a query to show how many stations are available in this dataset?\n",
    "\n",
    "stations=(session.query(Measurement.station, func.count(Measurement.station))\n",
    "    .group_by(Measurement.station)\n",
    "     ).order_by(Measurement.station).count()\n",
    "\n",
    "print (f\" There are {stations} stations in the dataset.\" )\n"
   ]
  },
  {
   "cell_type": "code",
   "execution_count": 33,
   "metadata": {},
   "outputs": [
    {
     "name": "stdout",
     "output_type": "stream",
     "text": [
      "The most active station is USC00519281 with 2772 records.\n"
     ]
    },
    {
     "data": {
      "text/plain": [
       "[('USC00519281', 2772),\n",
       " ('USC00519397', 2724),\n",
       " ('USC00513117', 2709),\n",
       " ('USC00519523', 2669),\n",
       " ('USC00516128', 2612),\n",
       " ('USC00514830', 2202),\n",
       " ('USC00511918', 1979),\n",
       " ('USC00517948', 1372),\n",
       " ('USC00518838', 511)]"
      ]
     },
     "execution_count": 33,
     "metadata": {},
     "output_type": "execute_result"
    }
   ],
   "source": [
    "# What are the most active stations? (i.e. what stations have the most rows)?\n",
    "# List the stations and the counts in descending order.\n",
    "\n",
    "#most active station\n",
    "\n",
    "activeStation= (session.query(Measurement.station, func.count(Measurement.station))\n",
    "    .group_by(Measurement.station)\n",
    "     ).order_by(func.count(Measurement.station).desc()).first()\n",
    "\n",
    "print(f\"The most active station is {activeStation[0]} with {activeStation[1]} records.\")\n",
    "\n",
    "activeStations=session.query(Measurement.station, func.count(Measurement.station)).group_by(Measurement.station) .\\\n",
    "     order_by(func.count(Measurement.station).desc()).all()\n",
    "\n",
    "activeStations"
   ]
  },
  {
   "cell_type": "code",
   "execution_count": 14,
   "metadata": {},
   "outputs": [
    {
     "name": "stdout",
     "output_type": "stream",
     "text": [
      " The highest temperature recorded by station USC00519281 is 85.0 degrees ,\n",
      "  the average temperature is 72, and the lowest temperture is 54.0\n"
     ]
    },
    {
     "data": {
      "text/html": [
       "<div>\n",
       "<style scoped>\n",
       "    .dataframe tbody tr th:only-of-type {\n",
       "        vertical-align: middle;\n",
       "    }\n",
       "\n",
       "    .dataframe tbody tr th {\n",
       "        vertical-align: top;\n",
       "    }\n",
       "\n",
       "    .dataframe thead th {\n",
       "        text-align: right;\n",
       "    }\n",
       "</style>\n",
       "<table border=\"1\" class=\"dataframe\">\n",
       "  <thead>\n",
       "    <tr style=\"text-align: right;\">\n",
       "      <th></th>\n",
       "      <th>Max Temp</th>\n",
       "      <th>Avg Temp</th>\n",
       "      <th>Min Temp</th>\n",
       "    </tr>\n",
       "  </thead>\n",
       "  <tbody>\n",
       "    <tr>\n",
       "      <th>0</th>\n",
       "      <td>85.0</td>\n",
       "      <td>71.663781</td>\n",
       "      <td>54.0</td>\n",
       "    </tr>\n",
       "  </tbody>\n",
       "</table>\n",
       "</div>"
      ],
      "text/plain": [
       "   Max Temp   Avg Temp  Min Temp\n",
       "0      85.0  71.663781      54.0"
      ]
     },
     "execution_count": 14,
     "metadata": {},
     "output_type": "execute_result"
    }
   ],
   "source": [
    "# Using the station id from the previous query, calculate the lowest temperature recorded, \n",
    "# highest temperature recorded, and average temperature of the most active station?\n",
    "\n",
    "#station281 = session.query(Measurement.tobs).filter(Measurement.station == activeStation[0]).all()\n",
    "#station281\n",
    "\n",
    "station281 = session.query(func.max(Measurement.tobs).label(\"Max Temp\")\n",
    "                           ,func.avg(Measurement.tobs).label(\"Avg Temp\") \n",
    "                           ,func.min(Measurement.tobs).label(\"Min Temp\")\n",
    "                ).filter(Measurement.station == activeStation[0]).all()\n",
    "\n",
    "max_temp=station281[0][0]\n",
    "Avg_temp=station281[0][1]\n",
    "Min_temp=station281[0][2]\n",
    "\n",
    "stationDF=pd.DataFrame(station281)\n",
    "\n",
    "\n",
    "print(f\" The highest temperature recorded by station {activeStation[0]} is {max_temp} degrees ,\\n  the average temperature is {round(Avg_temp)}, and the lowest temperture is {Min_temp}\"  )\n",
    "\n",
    "stationDF\n",
    "\n"
   ]
  },
  {
   "cell_type": "code",
   "execution_count": 15,
   "metadata": {},
   "outputs": [
    {
     "name": "stdout",
     "output_type": "stream",
     "text": [
      "The station with the highest number of temperature observations is USC00519281 with 2772 records.\n"
     ]
    },
    {
     "data": {
      "text/plain": [
       "<matplotlib.legend.Legend at 0x29a70439320>"
      ]
     },
     "execution_count": 15,
     "metadata": {},
     "output_type": "execute_result"
    },
    {
     "data": {
      "image/png": "[encoded data removed]",
      "text/plain": [
       "<Figure size 432x288 with 1 Axes>"
      ]
     },
     "metadata": {
      "needs_background": "light"
     },
     "output_type": "display_data"
    }
   ],
   "source": [
    "# Choose the station with the highest number of temperature observations.\n",
    "TempStation= (session.query(Measurement.station, func.count(Measurement.tobs))\n",
    "    .group_by(Measurement.station)\n",
    "     ).order_by(func.count(Measurement.tobs).desc()).first()\n",
    "\n",
    "\n",
    "print(f\"The station with the highest number of temperature observations is {TempStation[0]} with {TempStation[1]} records.\")\n",
    "TempStation\n",
    "\n",
    "# Query the last 12 months of temperature observation data for this station and plot the results as a histogram\n",
    "\n",
    "Tempresults = session.query(Measurement.date\n",
    "                            ,Measurement.station\n",
    "                            ,Measurement.tobs).filter(Measurement.date >= yr_ago\n",
    "                                                      , Measurement.station==TempStation[0]).all()\n",
    "\n",
    "\n",
    "x=[x[2]for x in Tempresults]\n",
    "\n",
    "plt.hist(x, bins=12, label=\"tobs\")\n",
    "plt.xlabel(\"Temperature\")\n",
    "plt.ylabel(\"Frequency\")\n",
    "plt.legend(loc=\"best\")\n",
    "\n"
   ]
  },
  {
   "cell_type": "code",
   "execution_count": 16,
   "metadata": {},
   "outputs": [
    {
     "name": "stdout",
     "output_type": "stream",
     "text": [
      "[(62.0, 69.57142857142857, 74.0)]\n"
     ]
    }
   ],
   "source": [
    "# This function called `calc_temps` will accept start date and end date in the format '%Y-%m-%d' \n",
    "# and return the minimum, average, and maximum temperatures for that range of dates\n",
    "def calc_temps(start_date, end_date):\n",
    "    \"\"\"TMIN, TAVG, and TMAX for a list of dates.\n",
    "    \n",
    "    Args:\n",
    "        start_date (string): A date string in the format %Y-%m-%d\n",
    "        end_date (string): A date string in the format %Y-%m-%d\n",
    "        \n",
    "    Returns:\n",
    "        TMIN, TAVE, and TMAX\n",
    "    \"\"\"\n",
    "    \n",
    "    return session.query(func.min(Measurement.tobs), func.avg(Measurement.tobs), func.max(Measurement.tobs)).\\\n",
    "        filter(Measurement.date >= start_date).filter(Measurement.date <= end_date).all()\n",
    "\n",
    "# function usage example\n",
    "print(calc_temps('2012-02-28', '2012-03-05'))"
   ]
  },
  {
   "cell_type": "code",
   "execution_count": 17,
   "metadata": {},
   "outputs": [
    {
     "data": {
      "text/plain": [
       "[(58.0, 70.83098591549296, 79.0)]"
      ]
     },
     "execution_count": 17,
     "metadata": {},
     "output_type": "execute_result"
    }
   ],
   "source": [
    "# Use your previous function `calc_temps` to calculate the tmin, tavg, and tmax \n",
    "# for your trip using the previous year's data for those same dates.\n",
    "\n",
    "#date of trip = 2016-02-10 to 2016-02-20\n",
    "\n",
    "vacTemp=calc_temps('2016-02-10', '2016-02-20')\n",
    "vacTemp"
   ]
  },
  {
   "cell_type": "code",
   "execution_count": 18,
   "metadata": {},
   "outputs": [
    {
     "data": {
      "text/plain": [
       "Text(0.5, 0, 'Average Temperatures')"
      ]
     },
     "execution_count": 18,
     "metadata": {},
     "output_type": "execute_result"
    },
    {
     "data": {
      "image/png": "[encoded data removed]",
      "text/plain": [
       "<Figure size 432x288 with 1 Axes>"
      ]
     },
     "metadata": {
      "needs_background": "light"
     },
     "output_type": "display_data"
    }
   ],
   "source": [
    "#Turning vacation data to a dataframe\n",
    "vacation=pd.DataFrame(vacTemp,columns=['TMIN', 'TAVE', 'TMAX'])\n",
    "\n",
    "# Plot the results from your previous query as a bar chart. \n",
    "\n",
    "# Use \"Trip Avg Temp\" as your Title\n",
    "# Use the average temperature for the y value\n",
    "# Use the peak-to-peak (tmax-tmin) value as the y error bar (yerr)\n",
    "\n",
    "y=[vacation[\"TAVE\"]]\n",
    "standard_errors=[vacation[\"TMAX\"]-vacation[\"TMIN\"]]\n",
    "\n",
    "fig, ax = plt.subplots()\n",
    "vacation[\"TAVE\"].plot.bar(yerr=standard_errors)\n",
    "fig.suptitle(\"Trip Avg Temp\")\n",
    "ax.set_ylabel(\"Temperature\")\n",
    "ax.set_xlabel(\"Average Temperatures\")\n",
    "\n"
   ]
  },
  {
   "cell_type": "code",
   "execution_count": 19,
   "metadata": {},
   "outputs": [
    {
     "data": {
      "text/html": [
       "<div>\n",
       "<style scoped>\n",
       "    .dataframe tbody tr th:only-of-type {\n",
       "        vertical-align: middle;\n",
       "    }\n",
       "\n",
       "    .dataframe tbody tr th {\n",
       "        vertical-align: top;\n",
       "    }\n",
       "\n",
       "    .dataframe thead th {\n",
       "        text-align: right;\n",
       "    }\n",
       "</style>\n",
       "<table border=\"1\" class=\"dataframe\">\n",
       "  <thead>\n",
       "    <tr style=\"text-align: right;\">\n",
       "      <th></th>\n",
       "      <th>id</th>\n",
       "      <th>Total amount of rainfall</th>\n",
       "      <th>name</th>\n",
       "      <th>latitude</th>\n",
       "      <th>longitude</th>\n",
       "      <th>elevation</th>\n",
       "    </tr>\n",
       "  </thead>\n",
       "  <tbody>\n",
       "    <tr>\n",
       "      <th>0</th>\n",
       "      <td>USC00516128</td>\n",
       "      <td>1.26</td>\n",
       "      <td>MANOA LYON ARBO 785.2, HI US</td>\n",
       "      <td>21.33310</td>\n",
       "      <td>-157.80250</td>\n",
       "      <td>152.4</td>\n",
       "    </tr>\n",
       "    <tr>\n",
       "      <th>1</th>\n",
       "      <td>USC00514830</td>\n",
       "      <td>0.57</td>\n",
       "      <td>KUALOA RANCH HEADQUARTERS 886.9, HI US</td>\n",
       "      <td>21.52130</td>\n",
       "      <td>-157.83740</td>\n",
       "      <td>7.0</td>\n",
       "    </tr>\n",
       "    <tr>\n",
       "      <th>2</th>\n",
       "      <td>USC00519523</td>\n",
       "      <td>0.51</td>\n",
       "      <td>WAIMANALO EXPERIMENTAL FARM, HI US</td>\n",
       "      <td>21.33556</td>\n",
       "      <td>-157.71139</td>\n",
       "      <td>19.5</td>\n",
       "    </tr>\n",
       "    <tr>\n",
       "      <th>3</th>\n",
       "      <td>USC00519281</td>\n",
       "      <td>0.45</td>\n",
       "      <td>WAIHEE 837.5, HI US</td>\n",
       "      <td>21.45167</td>\n",
       "      <td>-157.84889</td>\n",
       "      <td>32.9</td>\n",
       "    </tr>\n",
       "    <tr>\n",
       "      <th>4</th>\n",
       "      <td>USC00513117</td>\n",
       "      <td>0.44</td>\n",
       "      <td>KANEOHE 838.1, HI US</td>\n",
       "      <td>21.42340</td>\n",
       "      <td>-157.80150</td>\n",
       "      <td>14.6</td>\n",
       "    </tr>\n",
       "  </tbody>\n",
       "</table>\n",
       "</div>"
      ],
      "text/plain": [
       "            id  Total amount of rainfall  \\\n",
       "0  USC00516128                      1.26   \n",
       "1  USC00514830                      0.57   \n",
       "2  USC00519523                      0.51   \n",
       "3  USC00519281                      0.45   \n",
       "4  USC00513117                      0.44   \n",
       "\n",
       "                                     name  latitude  longitude  elevation  \n",
       "0            MANOA LYON ARBO 785.2, HI US  21.33310 -157.80250      152.4  \n",
       "1  KUALOA RANCH HEADQUARTERS 886.9, HI US  21.52130 -157.83740        7.0  \n",
       "2      WAIMANALO EXPERIMENTAL FARM, HI US  21.33556 -157.71139       19.5  \n",
       "3                     WAIHEE 837.5, HI US  21.45167 -157.84889       32.9  \n",
       "4                    KANEOHE 838.1, HI US  21.42340 -157.80150       14.6  "
      ]
     },
     "execution_count": 19,
     "metadata": {},
     "output_type": "execute_result"
    }
   ],
   "source": [
    "# Calculate the total amount of rainfall per weather station for your trip dates using the previous year's matching dates.\n",
    "# Sort this in descending order by precipitation amount and list the station, name, latitude, longitude, and elevation\n",
    "\n",
    "RainStation= (session.query(Measurement.station, func.sum(Measurement.prcp).label(\"total_rain\"))\n",
    "    .group_by(Measurement.station)\n",
    "     ).order_by(func.sum(Measurement.prcp).desc()).filter(Measurement.date >= \"2016-02-10\"\n",
    "                                                          ,Measurement.date <= \"2016-02-20\" ).all()\n",
    "\n",
    "#date of trip = 2016-02-10 to 2016-02-20\n",
    "\n",
    "RainPD=pd.DataFrame(RainStation,columns=[\"id\", \"Total amount of rainfall\"])\n",
    "\n",
    "RainPD\n",
    "\n",
    "Stationresults=session.query(Station.name\n",
    "                             ,Station.station\n",
    "                                     ,Station.latitude\n",
    "                                     ,Station.longitude\n",
    "                                     , Station.elevation).all()\n",
    "                        \n",
    "Stationresults=pd.DataFrame(Stationresults)\n",
    "\n",
    "Stationresults\n",
    "\n",
    "combinedData=RainPD.merge(Stationresults, left_on='id', right_on='station')\n",
    "combinedData=combinedData.drop(['station'], axis=1)\n",
    "combinedData.head()\n",
    "\n"
   ]
  },
  {
   "cell_type": "markdown",
   "metadata": {},
   "source": [
    "## Optional Challenge Assignment"
   ]
  },
  {
   "cell_type": "code",
   "execution_count": 20,
   "metadata": {},
   "outputs": [
    {
     "data": {
      "text/plain": [
       "[(62.0, 69.15384615384616, 77.0)]"
      ]
     },
     "execution_count": 20,
     "metadata": {},
     "output_type": "execute_result"
    }
   ],
   "source": [
    "# Create a query that will calculate the daily normals \n",
    "# (i.e. the averages for tmin, tmax, and tavg for all historic data matching a specific month and day)\n",
    "\n",
    "def daily_normals(date):\n",
    "    \"\"\"Daily Normals.\n",
    "    \n",
    "    Args:\n",
    "        date (str): A date string in the format '%m-%d'\n",
    "        \n",
    "    Returns:\n",
    "        A list of tuples containing the daily normals, tmin, tavg, and tmax\n",
    "    \n",
    "    \"\"\"\n",
    "    \n",
    "    sel = [func.min(Measurement.tobs), func.avg(Measurement.tobs), func.max(Measurement.tobs)]\n",
    "    return session.query(*sel).filter(func.strftime(\"%m-%d\", Measurement.date) == date).all()\n",
    "    \n",
    "daily_normals(\"01-01\")"
   ]
  },
  {
   "cell_type": "code",
   "execution_count": 21,
   "metadata": {},
   "outputs": [
    {
     "data": {
      "text/plain": [
       "[(56.0, 68.41666666666667, 76.0),\n",
       " (61.0, 69.25, 79.0),\n",
       " (60.0, 69.15789473684211, 78.0),\n",
       " (58.0, 70.36206896551724, 80.0),\n",
       " (62.0, 70.89473684210526, 79.0),\n",
       " (56.0, 70.28813559322033, 79.0),\n",
       " (59.0, 70.48214285714286, 76.0),\n",
       " (62.0, 70.47272727272727, 77.0),\n",
       " (63.0, 70.79629629629629, 77.0),\n",
       " (60.0, 69.33962264150944, 77.0),\n",
       " (63.0, 70.14035087719299, 76.0)]"
      ]
     },
     "execution_count": 21,
     "metadata": {},
     "output_type": "execute_result"
    }
   ],
   "source": [
    "# calculate the daily normals for your trip\n",
    "\n",
    "# push each tuple of calculations into a list called `normals`\n",
    "# Set the start and end date of the trip\n",
    "\n",
    "#date of trip = 2016-02-10 to 2016-02-20\n",
    "\n",
    "#date of trip \n",
    "startDate=datetime.strptime(\"2016-02-10\", '%Y-%m-%d')\n",
    "endDate=datetime.strptime(\"2016-02-20\", '%Y-%m-%d')\n",
    "\n",
    "# Parse out just the day from the datetime object\n",
    "endDate.strftime(\"%d\")\n",
    "startDate.strftime(\"%d\")\n",
    "\n",
    "# Use the start and end date to create a range of dates\n",
    "# Stip off the year and save a list of %m-%d strings\n",
    "\n",
    "mydates = pd.date_range(startDate, endDate).tolist()\n",
    "dateRange=[x.strftime(\"%m-%d\") for x in mydates]\n",
    "\n",
    "# Loop through the list of %m-%d strings and calculate the normals for each date\n",
    "\n",
    "dayNormals=[daily_normals(day)[0] for day in dateRange]\n",
    "dayNormals"
   ]
  },
  {
   "cell_type": "code",
   "execution_count": 22,
   "metadata": {},
   "outputs": [
    {
     "data": {
      "text/html": [
       "<div>\n",
       "<style scoped>\n",
       "    .dataframe tbody tr th:only-of-type {\n",
       "        vertical-align: middle;\n",
       "    }\n",
       "\n",
       "    .dataframe tbody tr th {\n",
       "        vertical-align: top;\n",
       "    }\n",
       "\n",
       "    .dataframe thead th {\n",
       "        text-align: right;\n",
       "    }\n",
       "</style>\n",
       "<table border=\"1\" class=\"dataframe\">\n",
       "  <thead>\n",
       "    <tr style=\"text-align: right;\">\n",
       "      <th></th>\n",
       "      <th>tmin</th>\n",
       "      <th>tavg</th>\n",
       "      <th>tmax</th>\n",
       "    </tr>\n",
       "  </thead>\n",
       "  <tbody>\n",
       "    <tr>\n",
       "      <th>0</th>\n",
       "      <td>56.0</td>\n",
       "      <td>68.416667</td>\n",
       "      <td>76.0</td>\n",
       "    </tr>\n",
       "    <tr>\n",
       "      <th>1</th>\n",
       "      <td>61.0</td>\n",
       "      <td>69.250000</td>\n",
       "      <td>79.0</td>\n",
       "    </tr>\n",
       "    <tr>\n",
       "      <th>2</th>\n",
       "      <td>60.0</td>\n",
       "      <td>69.157895</td>\n",
       "      <td>78.0</td>\n",
       "    </tr>\n",
       "    <tr>\n",
       "      <th>3</th>\n",
       "      <td>58.0</td>\n",
       "      <td>70.362069</td>\n",
       "      <td>80.0</td>\n",
       "    </tr>\n",
       "    <tr>\n",
       "      <th>4</th>\n",
       "      <td>62.0</td>\n",
       "      <td>70.894737</td>\n",
       "      <td>79.0</td>\n",
       "    </tr>\n",
       "    <tr>\n",
       "      <th>5</th>\n",
       "      <td>56.0</td>\n",
       "      <td>70.288136</td>\n",
       "      <td>79.0</td>\n",
       "    </tr>\n",
       "    <tr>\n",
       "      <th>6</th>\n",
       "      <td>59.0</td>\n",
       "      <td>70.482143</td>\n",
       "      <td>76.0</td>\n",
       "    </tr>\n",
       "    <tr>\n",
       "      <th>7</th>\n",
       "      <td>62.0</td>\n",
       "      <td>70.472727</td>\n",
       "      <td>77.0</td>\n",
       "    </tr>\n",
       "    <tr>\n",
       "      <th>8</th>\n",
       "      <td>63.0</td>\n",
       "      <td>70.796296</td>\n",
       "      <td>77.0</td>\n",
       "    </tr>\n",
       "    <tr>\n",
       "      <th>9</th>\n",
       "      <td>60.0</td>\n",
       "      <td>69.339623</td>\n",
       "      <td>77.0</td>\n",
       "    </tr>\n",
       "    <tr>\n",
       "      <th>10</th>\n",
       "      <td>63.0</td>\n",
       "      <td>70.140351</td>\n",
       "      <td>76.0</td>\n",
       "    </tr>\n",
       "  </tbody>\n",
       "</table>\n",
       "</div>"
      ],
      "text/plain": [
       "    tmin       tavg  tmax\n",
       "0   56.0  68.416667  76.0\n",
       "1   61.0  69.250000  79.0\n",
       "2   60.0  69.157895  78.0\n",
       "3   58.0  70.362069  80.0\n",
       "4   62.0  70.894737  79.0\n",
       "5   56.0  70.288136  79.0\n",
       "6   59.0  70.482143  76.0\n",
       "7   62.0  70.472727  77.0\n",
       "8   63.0  70.796296  77.0\n",
       "9   60.0  69.339623  77.0\n",
       "10  63.0  70.140351  76.0"
      ]
     },
     "execution_count": 22,
     "metadata": {},
     "output_type": "execute_result"
    }
   ],
   "source": [
    "# Load the previous query results into a Pandas DataFrame and add the `trip_dates` range as the `date` index\n",
    "normalsPD=pd.DataFrame(dayNormals, columns=[\"tmin\", \"tavg\",\"tmax\"])\n",
    "normalsPD\n",
    "\n"
   ]
  },
  {
   "cell_type": "code",
   "execution_count": 23,
   "metadata": {},
   "outputs": [
    {
     "data": {
      "text/plain": [
       "<matplotlib.axes._subplots.AxesSubplot at 0x29a704a0a90>"
      ]
     },
     "execution_count": 23,
     "metadata": {},
     "output_type": "execute_result"
    },
    {
     "data": {
      "image/png": "[encoded data removed]",
      "text/plain": [
       "<Figure size 432x288 with 1 Axes>"
      ]
     },
     "metadata": {
      "needs_background": "light"
     },
     "output_type": "display_data"
    }
   ],
   "source": [
    "# Plot the daily normals as an area plot with `stacked=False`\n",
    "\n",
    "normalsPD.plot(kind=\"area\", stacked=False, title= \"Daily normals\")\n"
   ]
  },
  {
   "cell_type": "markdown",
   "metadata": {},
   "source": [
    "# Flask App"
   ]
  },
  {
   "cell_type": "code",
   "execution_count": 24,
   "metadata": {},
   "outputs": [],
   "source": [
    "app = Flask(__name__)"
   ]
  },
  {
   "cell_type": "markdown",
   "metadata": {},
   "source": [
    "`/api/v1.0/<start>` and `/api/v1.0/<start>/<end>`\n",
    "\n",
    "  * Return a JSON list of the minimum temperature, the average temperature, and the max temperature for a given start or start-end range.\n",
    "\n",
    "  * When given the start only, calculate `TMIN`, `TAVG`, and `TMAX` for all dates greater than and equal to the start date.\n",
    "\n",
    "  * When given the start and the end date, calculate the `TMIN`, `TAVG`, and `TMAX` for dates between the start and end date inclusive."
   ]
  },
  {
   "cell_type": "code",
   "execution_count": 27,
   "metadata": {},
   "outputs": [
    {
     "name": "stdout",
     "output_type": "stream",
     "text": [
      "Enter start date(yyyy-mm-dd)\n",
      "2017-05-02\n",
      "Enter End date(yyyy-mm-dd)\n",
      "2017-05-10\n"
     ]
    },
    {
     "data": {
      "text/plain": [
       "[(65.0, 73.05084745762711, 79.0),\n",
       " (67.0, 73.41071428571429, 84.0),\n",
       " (65.0, 73.59649122807018, 78.0),\n",
       " (67.0, 73.39655172413794, 79.0),\n",
       " (66.0, 73.14035087719299, 80.0),\n",
       " (64.0, 71.78846153846153, 79.0),\n",
       " (65.0, 72.18867924528301, 80.0),\n",
       " (67.0, 72.9322033898305, 79.0),\n",
       " (64.0, 73.3157894736842, 78.0)]"
      ]
     },
     "execution_count": 27,
     "metadata": {},
     "output_type": "execute_result"
    }
   ],
   "source": [
    "/api/v1.0/<start>\n",
    "\n",
    "@app.route(\"/api/v1.0/<start>\")\n",
    "  \n",
    "def start(start):\n",
    "    print(start)\n",
    "    \n",
    "startdate=input()\n",
    "\n",
    "print (\"Enter End date(yyyy-mm-dd)\")\n",
    "enddate=input()\n",
    "\n",
    "def daily_normals(date):\n",
    " \n",
    "    sel = [func.min(Measurement.tobs), func.avg(Measurement.tobs), func.max(Measurement.tobs)]\n",
    "    return session.query(*sel).filter(func.strftime(\"%m-%d\", Measurement.date) == date).all()\n",
    "\n",
    "try:\n",
    "    \n",
    "    startDate=datetime.strptime(startdate, '%Y-%m-%d')\n",
    "    endDate=datetime.strptime(enddate, '%Y-%m-%d')\n",
    "\n",
    "    # Parse out just the day from the datetime object\n",
    "    endDate.strftime(\"%d\")\n",
    "    startDate.strftime(\"%d\")\n",
    "\n",
    "    # Use the start and end date to create a range of dates\n",
    "    # Stip off the year and save a list of %m-%d strings\n",
    "\n",
    "    mydates = pd.date_range(startDate, endDate).tolist()\n",
    "    dateRange=[x.strftime(\"%m-%d\") for x in mydates]\n",
    "\n",
    "    # Loop through the list of %m-%d strings and calculate the normals for each date\n",
    "\n",
    "    dayNormals=[daily_normals(day)[0] for day in dateRange]\n",
    "    dayNormals\n",
    "except:\n",
    "    return (\"Error with dates. Please check again\")\n",
    "    \n"
   ]
  },
  {
   "cell_type": "code",
   "execution_count": 52,
   "metadata": {},
   "outputs": [
    {
     "data": {
      "text/plain": [
       "('2017-01-01', 62.0, 69.33333333333333, 74.0)"
      ]
     },
     "execution_count": 52,
     "metadata": {},
     "output_type": "execute_result"
    }
   ],
   "source": [
    "start=\"2017-01-01\"\n",
    "\n",
    "results = session.query(Measurement.date\n",
    "                        ,func.min(Measurement.tobs)\n",
    "                        , func.avg(Measurement.tobs),\n",
    "                        func.max(Measurement.tobs)).group_by(Measurement.date).filter(Measurement.date >= start).all()\n",
    "\n",
    "results[0]\n"
   ]
  },
  {
   "cell_type": "code",
   "execution_count": 60,
   "metadata": {},
   "outputs": [
    {
     "data": {
      "text/plain": [
       "[('2016-01-02', 69.0, 71.83333333333333, 73.0),\n",
       " ('2016-01-03', 63.0, 68.5, 75.0),\n",
       " ('2016-01-04', 62.0, 69.5, 76.0),\n",
       " ('2016-01-05', 68.0, 70.66666666666667, 75.0),\n",
       " ('2016-01-06', 68.0, 71.33333333333333, 74.0),\n",
       " ('2016-01-07', 64.0, 69.5, 76.0),\n",
       " ('2016-01-08', 65.0, 69.83333333333333, 75.0),\n",
       " ('2016-01-09', 70.0, 74.16666666666667, 78.0),\n",
       " ('2016-01-10', 64.0, 69.4, 74.0),\n",
       " ('2016-01-11', 65.0, 69.16666666666667, 73.0),\n",
       " ('2016-01-12', 64.0, 68.66666666666667, 75.0),\n",
       " ('2016-01-13', 63.0, 68.0, 77.0),\n",
       " ('2016-01-14', 62.0, 66.5, 75.0),\n",
       " ('2016-01-15', 67.0, 70.33333333333333, 74.0),\n",
       " ('2016-01-16', 65.0, 70.8, 75.0),\n",
       " ('2016-01-17', 64.0, 68.83333333333333, 76.0),\n",
       " ('2016-01-18', 62.0, 67.16666666666667, 76.0),\n",
       " ('2016-01-19', 61.0, 66.6, 73.0),\n",
       " ('2016-01-20', 62.0, 68.0, 77.0),\n",
       " ('2016-01-21', 65.0, 70.5, 75.0),\n",
       " ('2016-01-22', 65.0, 69.66666666666667, 75.0),\n",
       " ('2016-01-23', 70.0, 72.6, 77.0),\n",
       " ('2016-01-24', 67.0, 72.5, 78.0),\n",
       " ('2016-01-25', 65.0, 69.42857142857143, 73.0),\n",
       " ('2016-01-26', 65.0, 70.0, 77.0),\n",
       " ('2016-01-27', 68.0, 69.33333333333333, 71.0),\n",
       " ('2016-01-28', 64.0, 67.85714285714286, 77.0),\n",
       " ('2016-01-29', 67.0, 69.4, 76.0),\n",
       " ('2016-01-30', 65.0, 69.33333333333333, 76.0),\n",
       " ('2016-01-31', 68.0, 71.2, 74.0),\n",
       " ('2016-02-01', 65.0, 71.28571428571429, 78.0),\n",
       " ('2016-02-02', 68.0, 69.0, 71.0),\n",
       " ('2016-02-03', 69.0, 70.33333333333333, 73.0),\n",
       " ('2016-02-04', 65.0, 69.85714285714286, 76.0),\n",
       " ('2016-02-05', 67.0, 69.28571428571429, 74.0),\n",
       " ('2016-02-06', 67.0, 71.2, 75.0),\n",
       " ('2016-02-07', 65.0, 69.83333333333333, 73.0),\n",
       " ('2016-02-08', 56.0, 64.42857142857143, 74.0),\n",
       " ('2016-02-09', 57.0, 63.714285714285715, 70.0),\n",
       " ('2016-02-10', 58.0, 63.42857142857143, 70.0),\n",
       " ('2016-02-11', 61.0, 68.28571428571429, 74.0),\n",
       " ('2016-02-12', 69.0, 72.85714285714286, 78.0),\n",
       " ('2016-02-13', 69.0, 73.6, 76.0),\n",
       " ('2016-02-14', 68.0, 72.2, 79.0),\n",
       " ('2016-02-15', 68.0, 74.16666666666667, 79.0),\n",
       " ('2016-02-16', 70.0, 72.85714285714286, 75.0),\n",
       " ('2016-02-17', 71.0, 72.16666666666667, 74.0),\n",
       " ('2016-02-18', 70.0, 72.57142857142857, 74.0),\n",
       " ('2016-02-19', 66.0, 68.85714285714286, 72.0),\n",
       " ('2016-02-20', 65.0, 70.0, 76.0),\n",
       " ('2016-02-21', 70.0, 72.6, 74.0),\n",
       " ('2016-02-22', 60.0, 68.6, 74.0),\n",
       " ('2016-02-23', 63.0, 66.71428571428571, 71.0),\n",
       " ('2016-02-24', 65.0, 68.28571428571429, 75.0),\n",
       " ('2016-02-25', 64.0, 68.57142857142857, 73.0),\n",
       " ('2016-02-26', 68.0, 71.42857142857143, 77.0),\n",
       " ('2016-02-27', 69.0, 71.14285714285714, 77.0),\n",
       " ('2016-02-28', 66.0, 71.33333333333333, 80.0),\n",
       " ('2016-02-29', 67.0, 71.16666666666667, 79.0),\n",
       " ('2016-03-01', 68.0, 71.71428571428571, 73.0),\n",
       " ('2016-03-02', 63.0, 68.28571428571429, 71.0),\n",
       " ('2016-03-03', 63.0, 68.42857142857143, 72.0),\n",
       " ('2016-03-04', 62.0, 68.33333333333333, 75.0),\n",
       " ('2016-03-05', 66.0, 70.2, 76.0),\n",
       " ('2016-03-06', 68.0, 71.0, 76.0),\n",
       " ('2016-03-07', 63.0, 69.28571428571429, 78.0),\n",
       " ('2016-03-08', 72.0, 75.42857142857143, 78.0),\n",
       " ('2016-03-09', 66.0, 68.14285714285714, 74.0),\n",
       " ('2016-03-10', 67.0, 69.28571428571429, 71.0),\n",
       " ('2016-03-11', 66.0, 70.14285714285714, 72.0),\n",
       " ('2016-03-12', 70.0, 72.16666666666667, 73.0),\n",
       " ('2016-03-13', 69.0, 71.75, 74.0),\n",
       " ('2016-03-14', 67.0, 71.85714285714286, 77.0),\n",
       " ('2016-03-15', 66.0, 68.33333333333333, 71.0),\n",
       " ('2016-03-16', 68.0, 71.71428571428571, 78.0),\n",
       " ('2016-03-17', 65.0, 68.33333333333333, 70.0),\n",
       " ('2016-03-18', 66.0, 69.0, 71.0),\n",
       " ('2016-03-19', 67.0, 69.6, 72.0),\n",
       " ('2016-03-20', 68.0, 71.8, 75.0),\n",
       " ('2016-03-21', 66.0, 71.16666666666667, 74.0),\n",
       " ('2016-03-22', 65.0, 70.85714285714286, 76.0),\n",
       " ('2016-03-23', 63.0, 69.28571428571429, 74.0),\n",
       " ('2016-03-24', 64.0, 71.0, 76.0),\n",
       " ('2016-03-25', 69.0, 72.33333333333333, 75.0),\n",
       " ('2016-03-26', 67.0, 72.33333333333333, 77.0),\n",
       " ('2016-03-27', 67.0, 71.0, 76.0),\n",
       " ('2016-03-28', 68.0, 72.71428571428571, 82.0),\n",
       " ('2016-03-29', 69.0, 72.85714285714286, 77.0),\n",
       " ('2016-03-30', 62.0, 68.57142857142857, 74.0),\n",
       " ('2016-03-31', 65.0, 69.71428571428571, 74.0),\n",
       " ('2016-04-01', 68.0, 72.71428571428571, 77.0),\n",
       " ('2016-04-02', 71.0, 73.66666666666667, 77.0),\n",
       " ('2016-04-03', 71.0, 74.5, 78.0),\n",
       " ('2016-04-04', 69.0, 74.57142857142857, 78.0),\n",
       " ('2016-04-05', 65.0, 72.83333333333333, 78.0),\n",
       " ('2016-04-06', 67.0, 70.14285714285714, 72.0),\n",
       " ('2016-04-07', 65.0, 69.71428571428571, 73.0),\n",
       " ('2016-04-08', 68.0, 73.42857142857143, 77.0),\n",
       " ('2016-04-09', 71.0, 74.0, 76.0),\n",
       " ('2016-04-10', 68.0, 73.33333333333333, 78.0),\n",
       " ('2016-04-11', 67.0, 73.0, 78.0),\n",
       " ('2016-04-12', 70.0, 74.66666666666667, 77.0),\n",
       " ('2016-04-13', 71.0, 75.16666666666667, 77.0),\n",
       " ('2016-04-14', 71.0, 74.83333333333333, 77.0),\n",
       " ('2016-04-15', 70.0, 75.66666666666667, 79.0),\n",
       " ('2016-04-16', 72.0, 75.4, 80.0),\n",
       " ('2016-04-17', 66.0, 70.33333333333333, 74.0),\n",
       " ('2016-04-18', 68.0, 71.85714285714286, 76.0),\n",
       " ('2016-04-19', 67.0, 71.33333333333333, 74.0),\n",
       " ('2016-04-20', 69.0, 73.14285714285714, 75.0),\n",
       " ('2016-04-21', 68.0, 73.57142857142857, 76.0),\n",
       " ('2016-04-22', 69.0, 74.57142857142857, 77.0),\n",
       " ('2016-04-23', 68.0, 73.83333333333333, 77.0),\n",
       " ('2016-04-24', 69.0, 74.5, 77.0),\n",
       " ('2016-04-25', 74.0, 77.0, 79.0),\n",
       " ('2016-04-26', 72.0, 75.71428571428571, 78.0),\n",
       " ('2016-04-27', 73.0, 75.14285714285714, 79.0),\n",
       " ('2016-04-28', 73.0, 76.85714285714286, 79.0),\n",
       " ('2016-04-29', 73.0, 76.14285714285714, 79.0),\n",
       " ('2016-04-30', 72.0, 75.0, 77.0),\n",
       " ('2016-05-01', 71.0, 75.83333333333333, 79.0),\n",
       " ('2016-05-02', 72.0, 74.14285714285714, 77.0),\n",
       " ('2016-05-03', 72.0, 75.28571428571429, 78.0),\n",
       " ('2016-05-04', 69.0, 73.85714285714286, 77.0),\n",
       " ('2016-05-05', 68.0, 74.28571428571429, 77.0),\n",
       " ('2016-05-06', 66.0, 72.0, 76.0),\n",
       " ('2016-05-07', 68.0, 70.0, 73.0),\n",
       " ('2016-05-08', 67.0, 69.4, 73.0),\n",
       " ('2016-05-09', 68.0, 72.42857142857143, 74.0),\n",
       " ('2016-05-10', 68.0, 72.28571428571429, 76.0),\n",
       " ('2016-05-11', 67.0, 72.83333333333333, 76.0),\n",
       " ('2016-05-12', 65.0, 71.28571428571429, 75.0),\n",
       " ('2016-05-13', 68.0, 71.85714285714286, 75.0),\n",
       " ('2016-05-14', 70.0, 72.8, 77.0),\n",
       " ('2016-05-15', 73.0, 76.5, 79.0),\n",
       " ('2016-05-16', 71.0, 76.0, 78.0),\n",
       " ('2016-05-17', 71.0, 76.14285714285714, 78.0),\n",
       " ('2016-05-18', 70.0, 74.57142857142857, 79.0),\n",
       " ('2016-05-19', 71.0, 75.85714285714286, 78.0),\n",
       " ('2016-05-20', 71.0, 75.71428571428571, 79.0),\n",
       " ('2016-05-21', 75.0, 76.6, 78.0),\n",
       " ('2016-05-22', 75.0, 77.2, 79.0),\n",
       " ('2016-05-23', 73.0, 76.85714285714286, 79.0),\n",
       " ('2016-05-24', 67.0, 73.28571428571429, 78.0),\n",
       " ('2016-05-25', 69.0, 74.57142857142857, 78.0),\n",
       " ('2016-05-26', 71.0, 75.85714285714286, 81.0),\n",
       " ('2016-05-27', 75.0, 77.8, 80.0),\n",
       " ('2016-05-28', 72.0, 76.2, 79.0),\n",
       " ('2016-05-29', 71.0, 74.8, 78.0),\n",
       " ('2016-05-30', 70.0, 72.83333333333333, 78.0),\n",
       " ('2016-05-31', 69.0, 71.33333333333333, 74.0),\n",
       " ('2016-06-01', 64.0, 70.71428571428571, 76.0),\n",
       " ('2016-06-02', 65.0, 70.28571428571429, 75.0),\n",
       " ('2016-06-03', 68.0, 72.0, 75.0),\n",
       " ('2016-06-04', 65.0, 70.5, 75.0),\n",
       " ('2016-06-05', 70.0, 72.4, 76.0),\n",
       " ('2016-06-06', 72.0, 75.0, 78.0),\n",
       " ('2016-06-07', 71.0, 75.28571428571429, 78.0),\n",
       " ('2016-06-08', 71.0, 75.14285714285714, 80.0),\n",
       " ('2016-06-09', 69.0, 72.42857142857143, 76.0),\n",
       " ('2016-06-10', 70.0, 74.66666666666667, 78.0),\n",
       " ('2016-06-11', 72.0, 75.5, 78.0),\n",
       " ('2016-06-12', 74.0, 76.0, 78.0),\n",
       " ('2016-06-13', 73.0, 77.14285714285714, 80.0),\n",
       " ('2016-06-14', 72.0, 77.28571428571429, 81.0),\n",
       " ('2016-06-15', 70.0, 76.57142857142857, 80.0),\n",
       " ('2016-06-16', 70.0, 75.5, 79.0),\n",
       " ('2016-06-17', 69.0, 73.28571428571429, 76.0),\n",
       " ('2016-06-18', 73.0, 75.83333333333333, 78.0),\n",
       " ('2016-06-19', 74.0, 76.5, 79.0),\n",
       " ('2016-06-20', 72.0, 75.57142857142857, 80.0),\n",
       " ('2016-06-21', 71.0, 75.0, 80.0),\n",
       " ('2016-06-22', 73.0, 77.0, 79.0),\n",
       " ('2016-06-23', 72.0, 76.57142857142857, 80.0),\n",
       " ('2016-06-24', 76.0, 77.66666666666667, 80.0),\n",
       " ('2016-06-25', 71.0, 75.5, 80.0),\n",
       " ('2016-06-26', 74.0, 77.16666666666667, 79.0),\n",
       " ('2016-06-27', 72.0, 75.71428571428571, 81.0),\n",
       " ('2016-06-28', 71.0, 75.57142857142857, 78.0),\n",
       " ('2016-06-29', 72.0, 77.57142857142857, 80.0),\n",
       " ('2016-06-30', 77.0, 78.66666666666667, 81.0),\n",
       " ('2016-07-01', 74.0, 77.16666666666667, 80.0),\n",
       " ('2016-07-02', 77.0, 79.25, 82.0),\n",
       " ('2016-07-03', 76.0, 76.5, 77.0),\n",
       " ('2016-07-04', 74.0, 78.0, 81.0),\n",
       " ('2016-07-05', 71.0, 75.85714285714286, 79.0),\n",
       " ('2016-07-06', 71.0, 75.42857142857143, 78.0),\n",
       " ('2016-07-07', 73.0, 76.57142857142857, 80.0),\n",
       " ('2016-07-08', 73.0, 77.85714285714286, 80.0),\n",
       " ('2016-07-09', 71.0, 77.66666666666667, 81.0),\n",
       " ('2016-07-10', 72.0, 76.0, 78.0),\n",
       " ('2016-07-11', 72.0, 76.0, 80.0),\n",
       " ('2016-07-12', 75.0, 78.85714285714286, 80.0),\n",
       " ('2016-07-13', 74.0, 76.66666666666667, 79.0),\n",
       " ('2016-07-14', 73.0, 78.14285714285714, 82.0),\n",
       " ('2016-07-15', 71.0, 76.71428571428571, 80.0),\n",
       " ('2016-07-16', 73.0, 77.0, 80.0),\n",
       " ('2016-07-17', 74.0, 77.4, 82.0),\n",
       " ('2016-07-18', 72.0, 76.57142857142857, 80.0),\n",
       " ('2016-07-19', 73.0, 77.71428571428571, 80.0),\n",
       " ('2016-07-20', 74.0, 78.42857142857143, 82.0),\n",
       " ('2016-07-21', 77.0, 78.4, 80.0),\n",
       " ('2016-07-22', 76.0, 77.25, 78.0),\n",
       " ('2016-07-23', 74.0, 76.4, 79.0),\n",
       " ('2016-07-24', 75.0, 77.2, 79.0),\n",
       " ('2016-07-25', 77.0, 79.0, 81.0),\n",
       " ('2016-07-26', 76.0, 78.83333333333333, 82.0),\n",
       " ('2016-07-27', 76.0, 79.42857142857143, 83.0),\n",
       " ('2016-07-28', 76.0, 79.66666666666667, 82.0),\n",
       " ('2016-07-29', 74.0, 78.0, 82.0),\n",
       " ('2016-07-30', 76.0, 76.8, 78.0),\n",
       " ('2016-07-31', 75.0, 76.4, 80.0),\n",
       " ('2016-08-01', 73.0, 76.16666666666667, 78.0),\n",
       " ('2016-08-02', 72.0, 76.57142857142857, 80.0),\n",
       " ('2016-08-03', 74.0, 78.42857142857143, 82.0),\n",
       " ('2016-08-04', 74.0, 78.0, 81.0),\n",
       " ('2016-08-05', 75.0, 78.5, 81.0),\n",
       " ('2016-08-06', 76.0, 78.16666666666667, 80.0),\n",
       " ('2016-08-07', 77.0, 78.83333333333333, 83.0),\n",
       " ('2016-08-08', 75.0, 79.57142857142857, 83.0),\n",
       " ('2016-08-09', 73.0, 78.71428571428571, 81.0),\n",
       " ('2016-08-10', 76.0, 80.14285714285714, 82.0),\n",
       " ('2016-08-11', 74.0, 78.57142857142857, 80.0),\n",
       " ('2016-08-12', 71.0, 76.71428571428571, 81.0),\n",
       " ('2016-08-13', 74.0, 79.0, 83.0),\n",
       " ('2016-08-14', 72.0, 77.2, 82.0),\n",
       " ('2016-08-15', 72.0, 77.71428571428571, 81.0),\n",
       " ('2016-08-16', 72.0, 77.85714285714286, 81.0),\n",
       " ('2016-08-17', 73.0, 78.28571428571429, 82.0),\n",
       " ('2016-08-18', 73.0, 78.85714285714286, 81.0),\n",
       " ('2016-08-19', 73.0, 77.5, 80.0),\n",
       " ('2016-08-20', 76.0, 79.66666666666667, 81.0),\n",
       " ('2016-08-21', 74.0, 77.0, 80.0),\n",
       " ('2016-08-22', 72.0, 77.28571428571429, 80.0),\n",
       " ('2016-08-23', 74.0, 78.28571428571429, 81.0),\n",
       " ('2016-08-24', 74.0, 77.57142857142857, 80.0),\n",
       " ('2016-08-25', 77.0, 79.42857142857143, 81.0),\n",
       " ('2016-08-26', 78.0, 80.5, 84.0),\n",
       " ('2016-08-27', 73.0, 76.83333333333333, 81.0),\n",
       " ('2016-08-28', 71.0, 76.0, 81.0),\n",
       " ('2016-08-29', 78.0, 78.71428571428571, 80.0),\n",
       " ('2016-08-30', 75.0, 77.33333333333333, 79.0),\n",
       " ('2016-08-31', 76.0, 78.28571428571429, 80.0),\n",
       " ('2016-09-01', 77.0, 80.16666666666667, 82.0),\n",
       " ('2016-09-02', 75.0, 79.42857142857143, 81.0),\n",
       " ('2016-09-03', 75.0, 77.4, 79.0),\n",
       " ('2016-09-04', 73.0, 77.0, 84.0),\n",
       " ('2016-09-05', 76.0, 79.5, 84.0),\n",
       " ('2016-09-06', 73.0, 75.66666666666667, 80.0),\n",
       " ('2016-09-07', 74.0, 75.83333333333333, 80.0),\n",
       " ('2016-09-08', 74.0, 78.71428571428571, 81.0),\n",
       " ('2016-09-09', 75.0, 77.42857142857143, 79.0),\n",
       " ('2016-09-10', 75.0, 76.8, 78.0),\n",
       " ('2016-09-11', 71.0, 77.2, 83.0),\n",
       " ('2016-09-12', 72.0, 76.85714285714286, 79.0),\n",
       " ('2016-09-13', 75.0, 77.57142857142857, 79.0),\n",
       " ('2016-09-14', 73.0, 75.85714285714286, 79.0),\n",
       " ('2016-09-15', 73.0, 77.85714285714286, 81.0),\n",
       " ('2016-09-16', 73.0, 77.85714285714286, 80.0),\n",
       " ('2016-09-17', 76.0, 78.6, 81.0),\n",
       " ('2016-09-18', 75.0, 78.6, 81.0),\n",
       " ('2016-09-19', 70.0, 76.57142857142857, 79.0),\n",
       " ('2016-09-20', 70.0, 75.85714285714286, 80.0),\n",
       " ('2016-09-21', 73.0, 76.66666666666667, 80.0),\n",
       " ('2016-09-22', 73.0, 76.57142857142857, 79.0),\n",
       " ('2016-09-23', 73.0, 78.57142857142857, 82.0),\n",
       " ('2016-09-24', 77.0, 80.16666666666667, 83.0),\n",
       " ('2016-09-25', 76.0, 79.0, 82.0),\n",
       " ('2016-09-26', 74.0, 77.71428571428571, 80.0),\n",
       " ('2016-09-27', 74.0, 78.0, 80.0),\n",
       " ('2016-09-28', 77.0, 78.28571428571429, 80.0),\n",
       " ('2016-09-29', 76.0, 78.85714285714286, 82.0),\n",
       " ('2016-09-30', 73.0, 78.0, 80.0),\n",
       " ('2016-10-01', 74.0, 77.5, 80.0),\n",
       " ('2016-10-02', 73.0, 78.16666666666667, 81.0),\n",
       " ('2016-10-03', 76.0, 78.57142857142857, 80.0),\n",
       " ('2016-10-04', 74.0, 78.28571428571429, 81.0),\n",
       " ('2016-10-05', 75.0, 78.71428571428571, 80.0),\n",
       " ('2016-10-06', 75.0, 77.85714285714286, 80.0),\n",
       " ('2016-10-07', 73.0, 77.42857142857143, 79.0),\n",
       " ('2016-10-08', 73.0, 76.6, 82.0),\n",
       " ('2016-10-09', 72.0, 76.4, 80.0),\n",
       " ('2016-10-10', 71.0, 75.0, 78.0),\n",
       " ('2016-10-11', 74.0, 78.28571428571429, 81.0),\n",
       " ('2016-10-12', 75.0, 78.83333333333333, 81.0),\n",
       " ('2016-10-13', 75.0, 78.57142857142857, 81.0),\n",
       " ('2016-10-14', 73.0, 78.0, 80.0),\n",
       " ('2016-10-15', 74.0, 77.66666666666667, 81.0),\n",
       " ('2016-10-16', 75.0, 78.0, 81.0),\n",
       " ('2016-10-17', 70.0, 77.14285714285714, 80.0),\n",
       " ('2016-10-18', 74.0, 78.42857142857143, 80.0),\n",
       " ('2016-10-19', 70.0, 77.57142857142857, 81.0),\n",
       " ('2016-10-20', 73.0, 76.83333333333333, 79.0),\n",
       " ('2016-10-21', 74.0, 76.85714285714286, 79.0),\n",
       " ('2016-10-22', 75.0, 77.6, 80.0),\n",
       " ('2016-10-23', 72.0, 76.83333333333333, 81.0),\n",
       " ('2016-10-24', 71.0, 75.28571428571429, 77.0),\n",
       " ('2016-10-25', 74.0, 77.0, 81.0),\n",
       " ('2016-10-26', 73.0, 75.16666666666667, 78.0),\n",
       " ('2016-10-27', 71.0, 76.0, 78.0),\n",
       " ('2016-10-28', 68.0, 75.57142857142857, 78.0),\n",
       " ('2016-10-29', 71.0, 76.0, 78.0),\n",
       " ('2016-10-30', 76.0, 77.16666666666667, 79.0),\n",
       " ('2016-10-31', 69.0, 75.42857142857143, 78.0),\n",
       " ('2016-11-01', 73.0, 76.16666666666667, 79.0),\n",
       " ('2016-11-02', 75.0, 76.33333333333333, 78.0),\n",
       " ('2016-11-03', 74.0, 75.66666666666667, 77.0),\n",
       " ('2016-11-04', 74.0, 76.0, 77.0),\n",
       " ('2016-11-05', 69.0, 74.5, 78.0),\n",
       " ('2016-11-06', 71.0, 75.83333333333333, 78.0),\n",
       " ('2016-11-07', 63.0, 71.0, 76.0),\n",
       " ('2016-11-08', 70.0, 72.16666666666667, 77.0),\n",
       " ('2016-11-09', 68.0, 72.14285714285714, 76.0),\n",
       " ('2016-11-10', 67.0, 70.83333333333333, 75.0),\n",
       " ('2016-11-11', 67.0, 72.83333333333333, 77.0),\n",
       " ('2016-11-12', 68.0, 73.83333333333333, 79.0),\n",
       " ('2016-11-13', 72.0, 75.0, 79.0),\n",
       " ('2016-11-14', 74.0, 77.0, 79.0),\n",
       " ('2016-11-15', 72.0, 76.28571428571429, 78.0),\n",
       " ('2016-11-16', 72.0, 76.0, 78.0),\n",
       " ('2016-11-17', 75.0, 76.28571428571429, 77.0),\n",
       " ('2016-11-18', 75.0, 76.4, 78.0),\n",
       " ('2016-11-19', 73.0, 74.25, 76.0),\n",
       " ('2016-11-20', 74.0, 76.0, 80.0),\n",
       " ('2016-11-21', 71.0, 73.83333333333333, 76.0),\n",
       " ('2016-11-22', 73.0, 75.28571428571429, 76.0),\n",
       " ('2016-11-23', 69.0, 73.66666666666667, 77.0),\n",
       " ('2016-11-24', 69.0, 73.6, 75.0),\n",
       " ('2016-11-25', 69.0, 74.0, 76.0),\n",
       " ('2016-11-26', 70.0, 75.0, 78.0),\n",
       " ('2016-11-27', 69.0, 74.5, 78.0),\n",
       " ('2016-11-28', 71.0, 75.0, 77.0),\n",
       " ('2016-11-29', 67.0, 72.42857142857143, 76.0),\n",
       " ('2016-11-30', 72.0, 74.42857142857143, 76.0),\n",
       " ('2016-12-01', 71.0, 73.71428571428571, 76.0),\n",
       " ('2016-12-02', 70.0, 72.28571428571429, 77.0),\n",
       " ('2016-12-03', 67.0, 71.5, 75.0),\n",
       " ('2016-12-04', 69.0, 73.0, 77.0),\n",
       " ('2016-12-05', 67.0, 69.14285714285714, 76.0),\n",
       " ('2016-12-06', 67.0, 69.16666666666667, 74.0),\n",
       " ('2016-12-07', 68.0, 71.14285714285714, 76.0),\n",
       " ('2016-12-08', 70.0, 72.0, 75.0),\n",
       " ('2016-12-09', 68.0, 69.66666666666667, 72.0),\n",
       " ('2016-12-10', 68.0, 71.0, 76.0),\n",
       " ('2016-12-11', 69.0, 71.6, 78.0),\n",
       " ('2016-12-12', 65.0, 68.14285714285714, 75.0),\n",
       " ('2016-12-13', 65.0, 68.42857142857143, 72.0),\n",
       " ('2016-12-14', 68.0, 69.71428571428571, 72.0),\n",
       " ('2016-12-15', 62.0, 68.42857142857143, 75.0),\n",
       " ('2016-12-16', 60.0, 65.42857142857143, 75.0),\n",
       " ('2016-12-17', 70.0, 72.6, 76.0),\n",
       " ('2016-12-18', 67.0, 71.0, 76.0),\n",
       " ('2016-12-19', 69.0, 72.28571428571429, 78.0),\n",
       " ('2016-12-20', 73.0, 75.57142857142857, 77.0),\n",
       " ('2016-12-21', 70.0, 73.71428571428571, 77.0),\n",
       " ('2016-12-22', 68.0, 71.0, 73.0),\n",
       " ('2016-12-23', 68.0, 70.42857142857143, 73.0),\n",
       " ('2016-12-24', 69.0, 73.66666666666667, 78.0),\n",
       " ('2016-12-25', 69.0, 73.8, 78.0),\n",
       " ('2016-12-26', 71.0, 73.33333333333333, 75.0),\n",
       " ('2016-12-27', 71.0, 73.0, 75.0),\n",
       " ('2016-12-28', 71.0, 71.57142857142857, 73.0),\n",
       " ('2016-12-29', 69.0, 72.71428571428571, 77.0),\n",
       " ('2016-12-30', 65.0, 69.0, 72.0),\n",
       " ('2016-12-31', 65.0, 68.2, 72.0),\n",
       " ('2017-01-01', 62.0, 69.33333333333333, 74.0)]"
      ]
     },
     "execution_count": 60,
     "metadata": {},
     "output_type": "execute_result"
    }
   ],
   "source": [
    "session = Session(engine)\n",
    "start=\"2016-01-01\"\n",
    "end=\"2017-01-01\"\n",
    "startDate=datetime.strptime(start, '%Y-%m-%d')\n",
    "endDate=datetime.strptime(end, '%Y-%m-%d')\n",
    "\n",
    "results = session.query(Measurement.date,func.min(Measurement.tobs).label(\"Min Temp\")\n",
    ",func.avg(Measurement.tobs).label(\"Avg Temp\")\n",
    ",func.max(Measurement.tobs).label(\"Max Temp\")).group_by(Measurement.date).filter(Measurement.date >= startDate,Measurement.date <= endDate ).all()\n",
    "results"
   ]
  }
 ],
 "metadata": {
  "kernel_info": {
   "name": "python3"
  },
  "kernelspec": {
   "display_name": "Python 3",
   "language": "python",
   "name": "python3"
  },
  "language_info": {
   "codemirror_mode": {
    "name": "ipython",
    "version": 3
   },
   "file_extension": ".py",
   "mimetype": "text/x-python",
   "name": "python",
   "nbconvert_exporter": "python",
   "pygments_lexer": "ipython3",
   "version": "3.7.3"
  },
  "nteract": {
   "version": "0.12.3"
  },
  "varInspector": {
   "cols": {
    "lenName": 16,
    "lenType": 16,
    "lenVar": 40
   },
   "kernels_config": {
    "python": {
     "delete_cmd_postfix": "",
     "delete_cmd_prefix": "del ",
     "library": "var_list.py",
     "varRefreshCmd": "print(var_dic_list())"
    },
    "r": {
     "delete_cmd_postfix": ") ",
     "delete_cmd_prefix": "rm(",
     "library": "var_list.r",
     "varRefreshCmd": "cat(var_dic_list()) "
    }
   },
   "types_to_exclude": [
    "module",
    "function",
    "builtin_function_or_method",
    "instance",
    "_Feature"
   ],
   "window_display": false
  }
 },
 "nbformat": 4,
 "nbformat_minor": 2
}

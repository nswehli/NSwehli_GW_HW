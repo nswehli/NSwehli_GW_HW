{
 "cells": [
  {
   "cell_type": "code",
   "execution_count": 1,
   "metadata": {},
   "outputs": [],
   "source": [
    "import string"
   ]
  },
  {
   "cell_type": "code",
   "execution_count": 2,
   "metadata": {},
   "outputs": [],
   "source": [
    "import os\n",
    "import string\n",
    "import pandas as pd\n",
    "\n",
    "# Counter is used later in the program\n",
    "from collections import Counter"
   ]
  },
  {
   "cell_type": "code",
   "execution_count": 3,
   "metadata": {},
   "outputs": [],
   "source": [
    "resume_file = \"Resources/resume.md\""
   ]
  },
  {
   "cell_type": "code",
   "execution_count": 4,
   "metadata": {},
   "outputs": [],
   "source": [
    "REQUIRED_SKILLS = {\"excel\", \"python\", \"mysql\", \"statistics\"}\n",
    "DESIRED_SKILLS = {\"r\", \"git\", \"html\", \"css\", \"leaflet\"}"
   ]
  },
  {
   "cell_type": "code",
   "execution_count": 5,
   "metadata": {},
   "outputs": [],
   "source": [
    "def load_file(filepath):\n",
    "    \"\"\"Helper function to read a file and return the data.\"\"\"\n",
    "    with open(filepath, \"r\") as resume_file_handler:\n",
    "        return resume_file_handler.read().lower().split()\n"
   ]
  },
  {
   "cell_type": "code",
   "execution_count": 6,
   "metadata": {},
   "outputs": [
    {
     "name": "stdout",
     "output_type": "stream",
     "text": [
      "['#', 'dartanion', 'd.', 'dartling', '##', 'education', '*', 'data', 'analytics', 'and', 'visualization', 'boot', 'camp', 'graduate', '##', 'experience', '*', 'creating', 'pivot', 'tables', 'and', 'vba', 'scripts', 'in', 'excel.', '*', 'modeling', 'and', 'forecasting', 'data', 'using', 'basic', 'statistics', '*', 'writing', 'python', 'scripts', 'to', 'analyze', 'data', 'sets', 'from', 'files', 'and', 'apis.', '*', 'social', 'media', 'mining', 'using', 'python', '*', 'working', 'with', 'mysql', 'and', 'mongodb', 'databases', '*', 'developing', 'front-end', 'web', 'visualizations', 'using', 'html,', 'css,', 'bootstrap,', 'd3,', 'and', 'leaflet.js', '*', 'using', 'the', 'tableau', 'business', 'intelligence', 'software', '*', 'performing', 'big', 'data', 'analytics', 'with', 'hadoop', '*', 'working', 'with', 'machine', 'learning', 'algorithms', '##', 'skills', '*', 'microsoft', 'excel,', 'python,', 'javascript,', 'html/css,', 'api', 'interactions,', 'social', 'media', 'mining,', 'sql,', 'hadoop,', 'tableau,', 'advanced', 'statistics,', 'machine', 'learning,', 'r,', 'git/github', '##', 'interests', '*', 'contributing', 'to', 'open-source', 'software', '*', 'data', 'analytics', 'with', 'python', 'and', 'pandas', '*', 'designing', 'data', 'visualization', 'web', 'apps', 'with', 'html,', 'css,', 'javascript,', 'and', 'd3', '*', 'working', 'with', 'big', 'data', 'in', 'the', 'cloud', 'using', 'aws']\n"
     ]
    }
   ],
   "source": [
    "word_list = load_file(resume_file)\n",
    "print(word_list)"
   ]
  },
  {
   "cell_type": "code",
   "execution_count": 7,
   "metadata": {},
   "outputs": [
    {
     "data": {
      "text/plain": [
       "{'#',\n",
       " '##',\n",
       " '*',\n",
       " 'advanced',\n",
       " 'algorithms',\n",
       " 'analytics',\n",
       " 'analyze',\n",
       " 'and',\n",
       " 'api',\n",
       " 'apis.',\n",
       " 'apps',\n",
       " 'aws',\n",
       " 'basic',\n",
       " 'big',\n",
       " 'boot',\n",
       " 'bootstrap,',\n",
       " 'business',\n",
       " 'camp',\n",
       " 'cloud',\n",
       " 'contributing',\n",
       " 'creating',\n",
       " 'css,',\n",
       " 'd.',\n",
       " 'd3',\n",
       " 'd3,',\n",
       " 'dartanion',\n",
       " 'dartling',\n",
       " 'data',\n",
       " 'databases',\n",
       " 'designing',\n",
       " 'developing',\n",
       " 'education',\n",
       " 'excel,',\n",
       " 'excel.',\n",
       " 'experience',\n",
       " 'files',\n",
       " 'forecasting',\n",
       " 'from',\n",
       " 'front-end',\n",
       " 'git/github',\n",
       " 'graduate',\n",
       " 'hadoop',\n",
       " 'hadoop,',\n",
       " 'html,',\n",
       " 'html/css,',\n",
       " 'in',\n",
       " 'intelligence',\n",
       " 'interactions,',\n",
       " 'interests',\n",
       " 'javascript,',\n",
       " 'leaflet.js',\n",
       " 'learning',\n",
       " 'learning,',\n",
       " 'machine',\n",
       " 'media',\n",
       " 'microsoft',\n",
       " 'mining',\n",
       " 'mining,',\n",
       " 'modeling',\n",
       " 'mongodb',\n",
       " 'mysql',\n",
       " 'open-source',\n",
       " 'pandas',\n",
       " 'performing',\n",
       " 'pivot',\n",
       " 'python',\n",
       " 'python,',\n",
       " 'r,',\n",
       " 'scripts',\n",
       " 'sets',\n",
       " 'skills',\n",
       " 'social',\n",
       " 'software',\n",
       " 'sql,',\n",
       " 'statistics',\n",
       " 'statistics,',\n",
       " 'tableau',\n",
       " 'tableau,',\n",
       " 'tables',\n",
       " 'the',\n",
       " 'to',\n",
       " 'using',\n",
       " 'vba',\n",
       " 'visualization',\n",
       " 'visualizations',\n",
       " 'web',\n",
       " 'with',\n",
       " 'working',\n",
       " 'writing'}"
      ]
     },
     "execution_count": 7,
     "metadata": {},
     "output_type": "execute_result"
    }
   ],
   "source": [
    "# Create a set of unique words from the resume\n",
    "resume = set()\n",
    "\n",
    "# Remove trailing punctuation from words\n",
    "for token in word_list:\n",
    "    resume.add(token)\n",
    "resume"
   ]
  },
  {
   "cell_type": "code",
   "execution_count": 8,
   "metadata": {},
   "outputs": [
    {
     "name": "stdout",
     "output_type": "stream",
     "text": [
      "{'vba', 'visualizations', 'leaflet.js', 'camp', 'open-source', 'learning', 'visualization', 'css,', 'in', 'machine', 'dartling', 'statistics,', 'designing', 'javascript,', 'tableau', 'tables', 'python', 'sets', 'contributing', 'basic', 'd.', 'files', 'statistics', 'experience', 'software', 'html/css,', 'business', 'hadoop,', 'mining', 'the', 'hadoop', 'skills', 'social', 'api', 'advanced', 'analyze', 'data', 'sql,', '##', 'to', 'd3,', 'front-end', 'analytics', 'mining,', 'pivot', 'interests', 'writing', 'bootstrap,', 'apis.', 'excel,', 'with', 'pandas', 'microsoft', 'apps', 'excel.', 'interactions,', 'r,', 'learning,', 'education', 'using', 'big', 'web', 'mysql', 'intelligence', 'tableau,', 'media', 'aws', 'developing', 'from', 'graduate', 'creating', 'html,', 'scripts', 'boot', 'working', 'mongodb', 'modeling', 'git/github', 'algorithms', 'dartanion', 'and', 'cloud', 'databases', 'python,', 'forecasting', 'd3', 'performing'}\n"
     ]
    }
   ],
   "source": [
    "# Remove Punctuation that were read as whole words\n",
    "punctuation = set(string.punctuation)\n",
    "\n",
    "resume = resume - punctuation\n",
    "print(resume)"
   ]
  },
  {
   "cell_type": "code",
   "execution_count": 9,
   "metadata": {},
   "outputs": [
    {
     "name": "stdout",
     "output_type": "stream",
     "text": [
      "REQUIRED SKILLS\n",
      "=============\n",
      "{'python', 'mysql', 'statistics'}\n"
     ]
    }
   ],
   "source": [
    "# Calculate the Required Skills Match using Set Intersection\n",
    "print(\"REQUIRED SKILLS\")\n",
    "print(\"=============\")\n",
    "print(resume & REQUIRED_SKILLS)"
   ]
  },
  {
   "cell_type": "code",
   "execution_count": 10,
   "metadata": {},
   "outputs": [
    {
     "name": "stdout",
     "output_type": "stream",
     "text": [
      "DESIRED SKILLS\n",
      "=============\n",
      "set()\n"
     ]
    }
   ],
   "source": [
    "# Calculate the Desired Skills Match using Set Intersection\n",
    "print(\"DESIRED SKILLS\")\n",
    "print(\"=============\")\n",
    "print(resume & DESIRED_SKILLS)"
   ]
  },
  {
   "cell_type": "code",
   "execution_count": 11,
   "metadata": {},
   "outputs": [
    {
     "name": "stdout",
     "output_type": "stream",
     "text": [
      "{'#': 0, 'dartanion': 0, 'd.': 0, 'dartling': 0, '##': 0, 'education': 0, '*': 0, 'data': 0, 'analytics': 0, 'and': 0, 'visualization': 0, 'boot': 0, 'camp': 0, 'graduate': 0, 'experience': 0, 'creating': 0, 'pivot': 0, 'tables': 0, 'vba': 0, 'scripts': 0, 'in': 0, 'excel.': 0, 'modeling': 0, 'forecasting': 0, 'using': 0, 'basic': 0, 'statistics': 0, 'writing': 0, 'python': 0, 'to': 0, 'analyze': 0, 'sets': 0, 'from': 0, 'files': 0, 'apis.': 0, 'social': 0, 'media': 0, 'mining': 0, 'working': 0, 'with': 0, 'mysql': 0, 'mongodb': 0, 'databases': 0, 'developing': 0, 'front-end': 0, 'web': 0, 'visualizations': 0, 'html,': 0, 'css,': 0, 'bootstrap,': 0, 'd3,': 0, 'leaflet.js': 0, 'the': 0, 'tableau': 0, 'business': 0, 'intelligence': 0, 'software': 0, 'performing': 0, 'big': 0, 'hadoop': 0, 'machine': 0, 'learning': 0, 'algorithms': 0, 'skills': 0, 'microsoft': 0, 'excel,': 0, 'python,': 0, 'javascript,': 0, 'html/css,': 0, 'api': 0, 'interactions,': 0, 'mining,': 0, 'sql,': 0, 'hadoop,': 0, 'tableau,': 0, 'advanced': 0, 'statistics,': 0, 'learning,': 0, 'r,': 0, 'git/github': 0, 'interests': 0, 'contributing': 0, 'open-source': 0, 'pandas': 0, 'designing': 0, 'apps': 0, 'd3': 0, 'cloud': 0, 'aws': 0}\n"
     ]
    }
   ],
   "source": [
    "# Resume Word Count\n",
    "# ==========================\n",
    "# Initialize a dictionary with default values equal to zero\n",
    "word_count = {}.fromkeys(word_list, 0)\n",
    "print (word_count)"
   ]
  },
  {
   "cell_type": "code",
   "execution_count": 12,
   "metadata": {},
   "outputs": [],
   "source": [
    "# Loop through the word list and count each word.\n",
    "for word in word_list:\n",
    "    word_count[word] += 1\n"
   ]
  },
  {
   "cell_type": "code",
   "execution_count": 13,
   "metadata": {},
   "outputs": [
    {
     "name": "stdout",
     "output_type": "stream",
     "text": [
      "Counter({'*': 15, 'and': 8, 'data': 7, 'with': 6, 'using': 5, '##': 4, 'analytics': 3, 'python': 3, 'working': 3, 'visualization': 2, 'scripts': 2, 'in': 2, 'to': 2, 'social': 2, 'media': 2, 'web': 2, 'html,': 2, 'css,': 2, 'the': 2, 'software': 2, 'big': 2, 'machine': 2, 'javascript,': 2, '#': 1, 'dartanion': 1, 'd.': 1, 'dartling': 1, 'education': 1, 'boot': 1, 'camp': 1, 'graduate': 1, 'experience': 1, 'creating': 1, 'pivot': 1, 'tables': 1, 'vba': 1, 'excel.': 1, 'modeling': 1, 'forecasting': 1, 'basic': 1, 'statistics': 1, 'writing': 1, 'analyze': 1, 'sets': 1, 'from': 1, 'files': 1, 'apis.': 1, 'mining': 1, 'mysql': 1, 'mongodb': 1, 'databases': 1, 'developing': 1, 'front-end': 1, 'visualizations': 1, 'bootstrap,': 1, 'd3,': 1, 'leaflet.js': 1, 'tableau': 1, 'business': 1, 'intelligence': 1, 'performing': 1, 'hadoop': 1, 'learning': 1, 'algorithms': 1, 'skills': 1, 'microsoft': 1, 'excel,': 1, 'python,': 1, 'html/css,': 1, 'api': 1, 'interactions,': 1, 'mining,': 1, 'sql,': 1, 'hadoop,': 1, 'tableau,': 1, 'advanced': 1, 'statistics,': 1, 'learning,': 1, 'r,': 1, 'git/github': 1, 'interests': 1, 'contributing': 1, 'open-source': 1, 'pandas': 1, 'designing': 1, 'apps': 1, 'd3': 1, 'cloud': 1, 'aws': 1})\n"
     ]
    }
   ],
   "source": [
    "# Using collections.Counter\n",
    "word_counter = Counter(word_list)\n",
    "print(word_counter)"
   ]
  },
  {
   "cell_type": "code",
   "execution_count": 14,
   "metadata": {},
   "outputs": [
    {
     "name": "stdout",
     "output_type": "stream",
     "text": [
      "True\n"
     ]
    }
   ],
   "source": [
    "# Comparing both word count solutions\n",
    "print(word_count == word_counter)"
   ]
  },
  {
   "cell_type": "code",
   "execution_count": 60,
   "metadata": {},
   "outputs": [
    {
     "name": "stdout",
     "output_type": "stream",
     "text": [
      "# Top 10 Words\n",
      "\n"
     ]
    },
    {
     "data": {
      "text/plain": [
       "*            15\n",
       "and           8\n",
       "data          7\n",
       "with          6\n",
       "using         5\n",
       "##            4\n",
       "analytics     3\n",
       "python        3\n",
       "working       3\n",
       "to            2\n",
       "dtype: int64"
      ]
     },
     "execution_count": 60,
     "metadata": {},
     "output_type": "execute_result"
    }
   ],
   "source": [
    "# Top 10 Words\n",
    "Top = pd.Series(word_list)\n",
    "Top_words=Top.value_counts()\n",
    "T_Words = Top_words.sort_values( ascending=False)\n",
    "print (\"# Top 10 Words\\n\")\n",
    "T_Words.head(10)\n",
    "\n",
    "\n",
    "\n"
   ]
  }
 ],
 "metadata": {
  "kernelspec": {
   "display_name": "Python 3",
   "language": "python",
   "name": "python3"
  },
  "language_info": {
   "codemirror_mode": {
    "name": "ipython",
    "version": 3
   },
   "file_extension": ".py",
   "mimetype": "text/x-python",
   "name": "python",
   "nbconvert_exporter": "python",
   "pygments_lexer": "ipython3",
   "version": "3.7.3"
  }
 },
 "nbformat": 4,
 "nbformat_minor": 2
}

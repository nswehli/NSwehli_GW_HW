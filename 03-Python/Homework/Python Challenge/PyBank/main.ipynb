{
 "cells": [
  {
   "cell_type": "code",
   "execution_count": 1,
   "metadata": {},
   "outputs": [],
   "source": [
    "import pandas as pd\n"
   ]
  },
  {
   "cell_type": "code",
   "execution_count": 2,
   "metadata": {},
   "outputs": [
    {
     "data": {
      "text/html": [
       "<div>\n",
       "<style scoped>\n",
       "    .dataframe tbody tr th:only-of-type {\n",
       "        vertical-align: middle;\n",
       "    }\n",
       "\n",
       "    .dataframe tbody tr th {\n",
       "        vertical-align: top;\n",
       "    }\n",
       "\n",
       "    .dataframe thead th {\n",
       "        text-align: right;\n",
       "    }\n",
       "</style>\n",
       "<table border=\"1\" class=\"dataframe\">\n",
       "  <thead>\n",
       "    <tr style=\"text-align: right;\">\n",
       "      <th></th>\n",
       "      <th>Date</th>\n",
       "      <th>Profit/Losses</th>\n",
       "    </tr>\n",
       "  </thead>\n",
       "  <tbody>\n",
       "    <tr>\n",
       "      <th>0</th>\n",
       "      <td>Jan-2010</td>\n",
       "      <td>867884</td>\n",
       "    </tr>\n",
       "    <tr>\n",
       "      <th>1</th>\n",
       "      <td>Feb-2010</td>\n",
       "      <td>984655</td>\n",
       "    </tr>\n",
       "    <tr>\n",
       "      <th>2</th>\n",
       "      <td>Mar-2010</td>\n",
       "      <td>322013</td>\n",
       "    </tr>\n",
       "    <tr>\n",
       "      <th>3</th>\n",
       "      <td>Apr-2010</td>\n",
       "      <td>-69417</td>\n",
       "    </tr>\n",
       "    <tr>\n",
       "      <th>4</th>\n",
       "      <td>May-2010</td>\n",
       "      <td>310503</td>\n",
       "    </tr>\n",
       "  </tbody>\n",
       "</table>\n",
       "</div>"
      ],
      "text/plain": [
       "       Date  Profit/Losses\n",
       "0  Jan-2010         867884\n",
       "1  Feb-2010         984655\n",
       "2  Mar-2010         322013\n",
       "3  Apr-2010         -69417\n",
       "4  May-2010         310503"
      ]
     },
     "execution_count": 2,
     "metadata": {},
     "output_type": "execute_result"
    }
   ],
   "source": [
    "bank=\"Resources/budget_data.csv\"\n",
    "bank_pd = pd.read_csv(bank)\n",
    "bank_pd.head()\n"
   ]
  },
  {
   "cell_type": "code",
   "execution_count": 58,
   "metadata": {},
   "outputs": [
    {
     "data": {
      "text/plain": [
       "86"
      ]
     },
     "execution_count": 58,
     "metadata": {},
     "output_type": "execute_result"
    }
   ],
   "source": [
    "# The total number of months included in the dataset\n",
    "#The net total amount of \"Profit/Losses\" over the entire period\n",
    "_duration=bank_pd[\"Date\"].count()\n",
    "_duration\n"
   ]
  },
  {
   "cell_type": "code",
   "execution_count": 53,
   "metadata": {},
   "outputs": [
    {
     "name": "stdout",
     "output_type": "stream",
     "text": [
      "he net total amount of Profit/Losses over the entire period is 38382578.0 $\n"
     ]
    }
   ],
   "source": [
    "#The net total amount of \"Profit/Losses\" over the entire period\n",
    "_pl=bank_pd[\"Profit/Losses\"].sum()\n",
    "print (f\"the net total amount of Profit/Losses over the entire period is {_pl} $\")"
   ]
  },
  {
   "cell_type": "code",
   "execution_count": 4,
   "metadata": {},
   "outputs": [
    {
     "name": "stdout",
     "output_type": "stream",
     "text": [
      "<class 'pandas.core.frame.DataFrame'>\n",
      "RangeIndex: 86 entries, 0 to 85\n",
      "Data columns (total 2 columns):\n",
      "Date             86 non-null object\n",
      "Profit/Losses    86 non-null int64\n",
      "dtypes: int64(1), object(1)\n",
      "memory usage: 1.4+ KB\n"
     ]
    }
   ],
   "source": [
    "bank_pd.info()"
   ]
  },
  {
   "cell_type": "code",
   "execution_count": 5,
   "metadata": {},
   "outputs": [
    {
     "data": {
      "text/html": [
       "<div>\n",
       "<style scoped>\n",
       "    .dataframe tbody tr th:only-of-type {\n",
       "        vertical-align: middle;\n",
       "    }\n",
       "\n",
       "    .dataframe tbody tr th {\n",
       "        vertical-align: top;\n",
       "    }\n",
       "\n",
       "    .dataframe thead th {\n",
       "        text-align: right;\n",
       "    }\n",
       "</style>\n",
       "<table border=\"1\" class=\"dataframe\">\n",
       "  <thead>\n",
       "    <tr style=\"text-align: right;\">\n",
       "      <th></th>\n",
       "      <th>Date</th>\n",
       "      <th>Profit/Losses</th>\n",
       "    </tr>\n",
       "  </thead>\n",
       "  <tbody>\n",
       "    <tr>\n",
       "      <th>0</th>\n",
       "      <td>Jan-2010</td>\n",
       "      <td>867884.0</td>\n",
       "    </tr>\n",
       "    <tr>\n",
       "      <th>1</th>\n",
       "      <td>Feb-2010</td>\n",
       "      <td>984655.0</td>\n",
       "    </tr>\n",
       "    <tr>\n",
       "      <th>2</th>\n",
       "      <td>Mar-2010</td>\n",
       "      <td>322013.0</td>\n",
       "    </tr>\n",
       "    <tr>\n",
       "      <th>3</th>\n",
       "      <td>Apr-2010</td>\n",
       "      <td>-69417.0</td>\n",
       "    </tr>\n",
       "    <tr>\n",
       "      <th>4</th>\n",
       "      <td>May-2010</td>\n",
       "      <td>310503.0</td>\n",
       "    </tr>\n",
       "  </tbody>\n",
       "</table>\n",
       "</div>"
      ],
      "text/plain": [
       "       Date  Profit/Losses\n",
       "0  Jan-2010       867884.0\n",
       "1  Feb-2010       984655.0\n",
       "2  Mar-2010       322013.0\n",
       "3  Apr-2010       -69417.0\n",
       "4  May-2010       310503.0"
      ]
     },
     "execution_count": 5,
     "metadata": {},
     "output_type": "execute_result"
    }
   ],
   "source": [
    "bank_pd[\"Profit/Losses\"]=bank_pd[\"Profit/Losses\"].astype(float)\n",
    "bank_pd.head()\n",
    "\n"
   ]
  },
  {
   "cell_type": "code",
   "execution_count": 6,
   "metadata": {},
   "outputs": [
    {
     "data": {
      "text/html": [
       "<div>\n",
       "<style scoped>\n",
       "    .dataframe tbody tr th:only-of-type {\n",
       "        vertical-align: middle;\n",
       "    }\n",
       "\n",
       "    .dataframe tbody tr th {\n",
       "        vertical-align: top;\n",
       "    }\n",
       "\n",
       "    .dataframe thead th {\n",
       "        text-align: right;\n",
       "    }\n",
       "</style>\n",
       "<table border=\"1\" class=\"dataframe\">\n",
       "  <thead>\n",
       "    <tr style=\"text-align: right;\">\n",
       "      <th></th>\n",
       "      <th>Date</th>\n",
       "      <th>Profit/Losses</th>\n",
       "      <th>change in Profit/Loss</th>\n",
       "    </tr>\n",
       "  </thead>\n",
       "  <tbody>\n",
       "    <tr>\n",
       "      <th>0</th>\n",
       "      <td>Jan-2010</td>\n",
       "      <td>867884.0</td>\n",
       "      <td>NaN</td>\n",
       "    </tr>\n",
       "    <tr>\n",
       "      <th>1</th>\n",
       "      <td>Feb-2010</td>\n",
       "      <td>984655.0</td>\n",
       "      <td>116771.0</td>\n",
       "    </tr>\n",
       "    <tr>\n",
       "      <th>2</th>\n",
       "      <td>Mar-2010</td>\n",
       "      <td>322013.0</td>\n",
       "      <td>-662642.0</td>\n",
       "    </tr>\n",
       "    <tr>\n",
       "      <th>3</th>\n",
       "      <td>Apr-2010</td>\n",
       "      <td>-69417.0</td>\n",
       "      <td>-391430.0</td>\n",
       "    </tr>\n",
       "    <tr>\n",
       "      <th>4</th>\n",
       "      <td>May-2010</td>\n",
       "      <td>310503.0</td>\n",
       "      <td>379920.0</td>\n",
       "    </tr>\n",
       "  </tbody>\n",
       "</table>\n",
       "</div>"
      ],
      "text/plain": [
       "       Date  Profit/Losses  change in Profit/Loss\n",
       "0  Jan-2010       867884.0                    NaN\n",
       "1  Feb-2010       984655.0               116771.0\n",
       "2  Mar-2010       322013.0              -662642.0\n",
       "3  Apr-2010       -69417.0              -391430.0\n",
       "4  May-2010       310503.0               379920.0"
      ]
     },
     "execution_count": 6,
     "metadata": {},
     "output_type": "execute_result"
    }
   ],
   "source": [
    "bank_pd[\"change in Profit/Loss\"]=bank_pd[\"Profit/Losses\"].diff(periods=1)\n",
    "bank_pd.head()"
   ]
  },
  {
   "cell_type": "code",
   "execution_count": 7,
   "metadata": {},
   "outputs": [
    {
     "data": {
      "text/html": [
       "<div>\n",
       "<style scoped>\n",
       "    .dataframe tbody tr th:only-of-type {\n",
       "        vertical-align: middle;\n",
       "    }\n",
       "\n",
       "    .dataframe tbody tr th {\n",
       "        vertical-align: top;\n",
       "    }\n",
       "\n",
       "    .dataframe thead th {\n",
       "        text-align: right;\n",
       "    }\n",
       "</style>\n",
       "<table border=\"1\" class=\"dataframe\">\n",
       "  <thead>\n",
       "    <tr style=\"text-align: right;\">\n",
       "      <th></th>\n",
       "      <th>Date</th>\n",
       "      <th>Profit/Losses</th>\n",
       "      <th>change in Profit/Loss</th>\n",
       "      <th>Percentage_change</th>\n",
       "    </tr>\n",
       "  </thead>\n",
       "  <tbody>\n",
       "    <tr>\n",
       "      <th>0</th>\n",
       "      <td>Jan-2010</td>\n",
       "      <td>867884.0</td>\n",
       "      <td>NaN</td>\n",
       "      <td>NaN</td>\n",
       "    </tr>\n",
       "    <tr>\n",
       "      <th>1</th>\n",
       "      <td>Feb-2010</td>\n",
       "      <td>984655.0</td>\n",
       "      <td>116771.0</td>\n",
       "      <td>13.0</td>\n",
       "    </tr>\n",
       "    <tr>\n",
       "      <th>2</th>\n",
       "      <td>Mar-2010</td>\n",
       "      <td>322013.0</td>\n",
       "      <td>-662642.0</td>\n",
       "      <td>-67.0</td>\n",
       "    </tr>\n",
       "    <tr>\n",
       "      <th>3</th>\n",
       "      <td>Apr-2010</td>\n",
       "      <td>-69417.0</td>\n",
       "      <td>-391430.0</td>\n",
       "      <td>-122.0</td>\n",
       "    </tr>\n",
       "    <tr>\n",
       "      <th>4</th>\n",
       "      <td>May-2010</td>\n",
       "      <td>310503.0</td>\n",
       "      <td>379920.0</td>\n",
       "      <td>-547.0</td>\n",
       "    </tr>\n",
       "  </tbody>\n",
       "</table>\n",
       "</div>"
      ],
      "text/plain": [
       "       Date  Profit/Losses  change in Profit/Loss  Percentage_change\n",
       "0  Jan-2010       867884.0                    NaN                NaN\n",
       "1  Feb-2010       984655.0               116771.0               13.0\n",
       "2  Mar-2010       322013.0              -662642.0              -67.0\n",
       "3  Apr-2010       -69417.0              -391430.0             -122.0\n",
       "4  May-2010       310503.0               379920.0             -547.0"
      ]
     },
     "execution_count": 7,
     "metadata": {},
     "output_type": "execute_result"
    }
   ],
   "source": [
    "bank_pd[\"Percentage_change\"] =round(bank_pd[\"Profit/Losses\"].pct_change()*100)\n",
    "bank_pd.head()"
   ]
  },
  {
   "cell_type": "code",
   "execution_count": 15,
   "metadata": {},
   "outputs": [
    {
     "name": "stdout",
     "output_type": "stream",
     "text": [
      "The average of the changes in Profit/Losses over the entire period is -2315$\n"
     ]
    }
   ],
   "source": [
    "#* The average of the changes in \"Profit/Losses\" over the entire period\n",
    "avg_change=round(bank_pd[\"change in Profit/Loss\"].mean())\n",
    "print (f\"The average of the changes in Profit/Losses over the entire period is {avg_change}$\")"
   ]
  },
  {
   "cell_type": "code",
   "execution_count": 27,
   "metadata": {},
   "outputs": [
    {
     "name": "stdout",
     "output_type": "stream",
     "text": [
      "The greatest increase in profits (date and amount) over the entire period was on: \n",
      " \n",
      "         Date  Profit/Losses  change in Profit/Loss  Percentage_change\n",
      "25  Feb-2012      1170593.0              1926159.0             -255.0\n"
     ]
    }
   ],
   "source": [
    "#* The greatest increase in profits (date and amount) over the entire period\n",
    "\n",
    "#max_change=round(bank_pd[\"change in Profit/Loss\"].max())\n",
    "\n",
    "#print (f\" The greatest increase in profits over the entire period is {max_change}$\")\n",
    "\n",
    "Max_profits = bank_pd.loc[bank_pd[\"change in Profit/Loss\"] == bank_pd[\"change in Profit/Loss\"].max(), :]\n",
    "print(f\"The greatest increase in profits (date and amount) over the entire period was on: \\n \\n {Max_profits}\")"
   ]
  },
  {
   "cell_type": "code",
   "execution_count": 28,
   "metadata": {},
   "outputs": [
    {
     "name": "stdout",
     "output_type": "stream",
     "text": [
      "The greatest decrease in losses (date and amount) over the entire period was on: \n",
      " \n",
      "         Date  Profit/Losses  change in Profit/Loss  Percentage_change\n",
      "44  Sep-2013     -1196225.0             -2196167.0             -220.0\n"
     ]
    }
   ],
   "source": [
    "#* The greatest decrease in losses (date and amount) over the entire period\n",
    "\n",
    "Min_profits = bank_pd.loc[bank_pd[\"change in Profit/Loss\"] == bank_pd[\"change in Profit/Loss\"].min(), :]\n",
    "print(f\"The greatest decrease in losses (date and amount) over the entire period was on: \\n \\n {Min_profits}\")"
   ]
  },
  {
   "cell_type": "code",
   "execution_count": 59,
   "metadata": {},
   "outputs": [
    {
     "name": "stdout",
     "output_type": "stream",
     "text": [
      " **The total number of months included in the dataset is 86 months \n",
      "\n",
      "** The net total amount of Profit/Losses over the entire period is 38382578.0 $ \n",
      "\n",
      "The total number of months included in the dataset \n",
      " Date                     86\n",
      "Profit/Losses            86\n",
      "change in Profit/Loss    85\n",
      "Percentage_change        85\n",
      "dtype: int64\n",
      "**The average of the changes in Profit/Losses over the entire period is -2315$\n",
      "\n",
      "**The greatest increase in profits (date and amount) over the entire period was on: \n",
      " \n",
      "         Date  Profit/Losses  change in Profit/Loss  Percentage_change\n",
      "25  Feb-2012      1170593.0              1926159.0             -255.0\n",
      "\n",
      "**The greatest decrease in losses (date and amount) over the entire period was on: \n",
      " \n",
      "         Date  Profit/Losses  change in Profit/Loss  Percentage_change\n",
      "44  Sep-2013     -1196225.0             -2196167.0             -220.0\n"
     ]
    }
   ],
   "source": [
    "print (f\" **The total number of months included in the dataset is {_duration} months \\n\")\n",
    "print (f\"** The net total amount of Profit/Losses over the entire period is {_pl} $ \\n\")\n",
    "print (f\"The total number of months included in the dataset \\n {bank_pd.count()}\")\n",
    "\n",
    "\n",
    "print (f\"**The average of the changes in Profit/Losses over the entire period is {avg_change}$\\n\")\n",
    "\n",
    "print(f\"**The greatest increase in profits (date and amount) over the entire period was on: \\n \\n {Max_profits}\\n\")\n",
    "\n",
    "print(f\"**The greatest decrease in losses (date and amount) over the entire period was on: \\n \\n {Min_profits}\")"
   ]
  }
 ],
 "metadata": {
  "kernelspec": {
   "display_name": "Python 3",
   "language": "python",
   "name": "python3"
  },
  "language_info": {
   "codemirror_mode": {
    "name": "ipython",
    "version": 3
   },
   "file_extension": ".py",
   "mimetype": "text/x-python",
   "name": "python",
   "nbconvert_exporter": "python",
   "pygments_lexer": "ipython3",
   "version": "3.7.3"
  }
 },
 "nbformat": 4,
 "nbformat_minor": 2
}
